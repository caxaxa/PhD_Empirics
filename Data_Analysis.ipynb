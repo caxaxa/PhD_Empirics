{
  "cells": [
    {
      "cell_type": "markdown",
      "metadata": {
        "id": "view-in-github",
        "colab_type": "text"
      },
      "source": [
        "<a href=\"https://colab.research.google.com/github/caxaxa/PhD_Empirics/blob/main/Data_Analysis.ipynb\" target=\"_parent\"><img src=\"https://colab.research.google.com/assets/colab-badge.svg\" alt=\"Open In Colab\"/></a>"
      ]
    },
    {
      "cell_type": "markdown",
      "source": [
        "# Corruption and Collaborations: The Brazilian Example\n",
        "\n",
        "In August 2013, Brazilian legislators enacted two important anti-bribery laws granting sanction reductions to collaborators. After this, in 2014 the Brazilian prosecutors initiated a series of big investigations unveiling big corruption schemes between the Brazilian government and important private corporations. In these cases, the prosecution strategy to investigate the defendants relied heavily on the offenders' disclosures under the newly enacted laws. In this context, one can argue that the investigations are evidence of the success of this anti-corruption policy. However, the impact of the policy over the widespread corruption in the country is not clear. This paper uses the empirical strategy from \\cite{miller2009} to empirically test the effectiveness of the Brazilian policy against corruption. Results show that the policy was effective to both prosecute and deter corruption in Brazil."
      ],
      "metadata": {
        "id": "vG0NL6W9BQiz"
      }
    },
    {
      "cell_type": "code",
      "source": [
        "!pip install  -U statsmodels\n",
        "!pip install --upgrade matplotlib\n",
        "\n",
        "# Reinitiate the kernel after updating the libraries"
      ],
      "metadata": {
        "id": "E8zFYQldWSHJ",
        "outputId": "5eb4d89b-9054-44e4-b660-358a93c70382",
        "colab": {
          "base_uri": "https://localhost:8080/"
        }
      },
      "execution_count": 1,
      "outputs": [
        {
          "output_type": "stream",
          "name": "stdout",
          "text": [
            "Requirement already satisfied: statsmodels in /usr/local/lib/python3.10/dist-packages (0.14.4)\n",
            "Requirement already satisfied: numpy<3,>=1.22.3 in /usr/local/lib/python3.10/dist-packages (from statsmodels) (1.26.4)\n",
            "Requirement already satisfied: scipy!=1.9.2,>=1.8 in /usr/local/lib/python3.10/dist-packages (from statsmodels) (1.13.1)\n",
            "Requirement already satisfied: pandas!=2.1.0,>=1.4 in /usr/local/lib/python3.10/dist-packages (from statsmodels) (2.2.2)\n",
            "Requirement already satisfied: patsy>=0.5.6 in /usr/local/lib/python3.10/dist-packages (from statsmodels) (1.0.1)\n",
            "Requirement already satisfied: packaging>=21.3 in /usr/local/lib/python3.10/dist-packages (from statsmodels) (24.2)\n",
            "Requirement already satisfied: python-dateutil>=2.8.2 in /usr/local/lib/python3.10/dist-packages (from pandas!=2.1.0,>=1.4->statsmodels) (2.8.2)\n",
            "Requirement already satisfied: pytz>=2020.1 in /usr/local/lib/python3.10/dist-packages (from pandas!=2.1.0,>=1.4->statsmodels) (2024.2)\n",
            "Requirement already satisfied: tzdata>=2022.7 in /usr/local/lib/python3.10/dist-packages (from pandas!=2.1.0,>=1.4->statsmodels) (2024.2)\n",
            "Requirement already satisfied: six>=1.5 in /usr/local/lib/python3.10/dist-packages (from python-dateutil>=2.8.2->pandas!=2.1.0,>=1.4->statsmodels) (1.17.0)\n",
            "Requirement already satisfied: matplotlib in /usr/local/lib/python3.10/dist-packages (3.8.0)\n",
            "Collecting matplotlib\n",
            "  Downloading matplotlib-3.10.0-cp310-cp310-manylinux_2_17_x86_64.manylinux2014_x86_64.whl.metadata (11 kB)\n",
            "Requirement already satisfied: contourpy>=1.0.1 in /usr/local/lib/python3.10/dist-packages (from matplotlib) (1.3.1)\n",
            "Requirement already satisfied: cycler>=0.10 in /usr/local/lib/python3.10/dist-packages (from matplotlib) (0.12.1)\n",
            "Requirement already satisfied: fonttools>=4.22.0 in /usr/local/lib/python3.10/dist-packages (from matplotlib) (4.55.3)\n",
            "Requirement already satisfied: kiwisolver>=1.3.1 in /usr/local/lib/python3.10/dist-packages (from matplotlib) (1.4.7)\n",
            "Requirement already satisfied: numpy>=1.23 in /usr/local/lib/python3.10/dist-packages (from matplotlib) (1.26.4)\n",
            "Requirement already satisfied: packaging>=20.0 in /usr/local/lib/python3.10/dist-packages (from matplotlib) (24.2)\n",
            "Requirement already satisfied: pillow>=8 in /usr/local/lib/python3.10/dist-packages (from matplotlib) (11.0.0)\n",
            "Requirement already satisfied: pyparsing>=2.3.1 in /usr/local/lib/python3.10/dist-packages (from matplotlib) (3.2.0)\n",
            "Requirement already satisfied: python-dateutil>=2.7 in /usr/local/lib/python3.10/dist-packages (from matplotlib) (2.8.2)\n",
            "Requirement already satisfied: six>=1.5 in /usr/local/lib/python3.10/dist-packages (from python-dateutil>=2.7->matplotlib) (1.17.0)\n",
            "Downloading matplotlib-3.10.0-cp310-cp310-manylinux_2_17_x86_64.manylinux2014_x86_64.whl (8.6 MB)\n",
            "\u001b[2K   \u001b[90m━━━━━━━━━━━━━━━━━━━━━━━━━━━━━━━━━━━━━━━━\u001b[0m \u001b[32m8.6/8.6 MB\u001b[0m \u001b[31m33.9 MB/s\u001b[0m eta \u001b[36m0:00:00\u001b[0m\n",
            "\u001b[?25hInstalling collected packages: matplotlib\n",
            "  Attempting uninstall: matplotlib\n",
            "    Found existing installation: matplotlib 3.8.0\n",
            "    Uninstalling matplotlib-3.8.0:\n",
            "      Successfully uninstalled matplotlib-3.8.0\n",
            "Successfully installed matplotlib-3.10.0\n"
          ]
        }
      ]
    },
    {
      "cell_type": "code",
      "execution_count": 2,
      "metadata": {
        "id": "mx5mXnJdREaL"
      },
      "outputs": [],
      "source": [
        "#Importing the libraries\n",
        "\n",
        "import pandas as pd\n",
        "import numpy as np\n",
        "\n",
        "\n"
      ]
    },
    {
      "cell_type": "code",
      "source": [
        "import matplotlib.pyplot as plt"
      ],
      "metadata": {
        "id": "K-AZ7yyMY10v"
      },
      "execution_count": 3,
      "outputs": []
    },
    {
      "cell_type": "code",
      "execution_count": 4,
      "metadata": {
        "id": "hr-2TF67REaP"
      },
      "outputs": [],
      "source": [
        "# ## In case of using other crimes:\n",
        "\n",
        "# df = pd.read_pickle('./Data/INQ_DATA.pkl')\n",
        "# #creat a series of other crimes\n",
        "# corruption = df.loc[(df['offences'].str.contains( 'corrup',case = False) ==True) & ((df['offences'].str.contains( 'ativa',case = False) ==True) | (df['offences'].str.contains( 'passiv',case = False) ==True)) ]\n",
        "# corruption.to_pickle('./Data/Corruption.pkl')"
      ]
    },
    {
      "cell_type": "code",
      "source": [
        "# When using Colab, download the treated corruption data from my Git Repository\n",
        "\n",
        "!mkdir Data\n",
        "!mkdir Plottings\n",
        "!wget https://raw.githubusercontent.com/caxaxa/PhD_Empirics/main/Data/Corruption.pkl"
      ],
      "metadata": {
        "colab": {
          "base_uri": "https://localhost:8080/"
        },
        "id": "7yFU44oRROf3",
        "outputId": "77bbbe46-fae4-44cc-98ba-40f883486460"
      },
      "execution_count": 5,
      "outputs": [
        {
          "output_type": "stream",
          "name": "stdout",
          "text": [
            "--2024-12-26 21:18:22--  https://raw.githubusercontent.com/caxaxa/PhD_Empirics/main/Data/Corruption.pkl\n",
            "Resolving raw.githubusercontent.com (raw.githubusercontent.com)... 185.199.111.133, 185.199.110.133, 185.199.108.133, ...\n",
            "Connecting to raw.githubusercontent.com (raw.githubusercontent.com)|185.199.111.133|:443... connected.\n",
            "HTTP request sent, awaiting response... 200 OK\n",
            "Length: 979226 (956K) [application/octet-stream]\n",
            "Saving to: ‘Corruption.pkl’\n",
            "\n",
            "Corruption.pkl      100%[===================>] 956.28K  --.-KB/s    in 0.01s   \n",
            "\n",
            "2024-12-26 21:18:23 (86.5 MB/s) - ‘Corruption.pkl’ saved [979226/979226]\n",
            "\n"
          ]
        }
      ]
    },
    {
      "cell_type": "markdown",
      "source": [
        "## Exploring the Data"
      ],
      "metadata": {
        "id": "B-yd50y0COcj"
      }
    },
    {
      "cell_type": "code",
      "source": [
        "df_corruption = pd.read_pickle('./Corruption.pkl')\n",
        "df_corruption"
      ],
      "metadata": {
        "colab": {
          "base_uri": "https://localhost:8080/",
          "height": 455
        },
        "id": "zR5UluCgglT-",
        "outputId": "4b9898a9-7263-4ccf-b660-9488a65959ab"
      },
      "execution_count": 6,
      "outputs": [
        {
          "output_type": "execute_result",
          "data": {
            "text/plain": [
              "                                                     offences region  \\\n",
              "date                                                                   \n",
              "2009-11-03  SCI - Corrupção passiva, 5ª CCR - Corrupção pa...     AC   \n",
              "2009-12-18    SCI - Corrupção ativa, 5ª CCR - Corrupção ativa     AC   \n",
              "2010-06-29    SCI - Corrupção ativa, 5ª CCR - Corrupção ativa     AC   \n",
              "2010-07-10  SCI - Corrupção passiva, 5ª CCR - Corrupção pa...     AC   \n",
              "2009-03-02  SCI - Corrupção passiva, 5ª CCR - Corrupção pa...     AL   \n",
              "...                                                       ...    ...   \n",
              "2014-03-09  SCI - Estelionato Majorado, 2ª CCR - Esteliona...     AL   \n",
              "2014-05-27  SCI - Estelionato Majorado, 2ª CCR - Esteliona...     MA   \n",
              "2014-03-18  SCI - Corrupção passiva, 5ª CCR - Corrupção pa...     RN   \n",
              "2014-02-21  SCI - Corrupção passiva, 5ª CCR - Corrupção pa...     PE   \n",
              "2014-07-08  SCI - Estelionato Majorado, 2ª CCR - Esteliona...     MA   \n",
              "\n",
              "                                                        title  \n",
              "date                                                           \n",
              "2009-11-03  11.03.2009 - INQ 0007031-39.2014.4.01.3000 (JF...  \n",
              "2009-12-18  18.12.2009 - INQ 0015790-31.2010.4.01.3000 (JF...  \n",
              "2010-06-29        29.06.2010 - INQ 00181/2010 (DPF/AC), PR-AC  \n",
              "2010-07-10  07.10.2010 - INQ 0002501-94.2011.4.01.3000 (JF...  \n",
              "2009-03-02  03.02.2009 - INQ 2009.80.00.001342-8 (JF-AL, 7...  \n",
              "...                                                       ...  \n",
              "2014-03-09  03.09.2014 - INQ 0000077-93.2017.4.05.8000 (JF...  \n",
              "2014-05-27  27.05.2014 - INQ 00078/2014 (DPF/CAX), PRM-CAX...  \n",
              "2014-03-18  18.03.2014 - IPL 0000544-41.2014.4.05.8400 (JF...  \n",
              "2014-02-21         21.02.2014 - RE 00023/2015 (DPF/PE), PR-PE  \n",
              "2014-07-08  07.08.2014 - IP 0002315-55.2018.4.01.3702 (JF/...  \n",
              "\n",
              "[4673 rows x 3 columns]"
            ],
            "text/html": [
              "\n",
              "  <div id=\"df-b56e2f2e-0546-4e63-912c-d1f319d56ede\" class=\"colab-df-container\">\n",
              "    <div>\n",
              "<style scoped>\n",
              "    .dataframe tbody tr th:only-of-type {\n",
              "        vertical-align: middle;\n",
              "    }\n",
              "\n",
              "    .dataframe tbody tr th {\n",
              "        vertical-align: top;\n",
              "    }\n",
              "\n",
              "    .dataframe thead th {\n",
              "        text-align: right;\n",
              "    }\n",
              "</style>\n",
              "<table border=\"1\" class=\"dataframe\">\n",
              "  <thead>\n",
              "    <tr style=\"text-align: right;\">\n",
              "      <th></th>\n",
              "      <th>offences</th>\n",
              "      <th>region</th>\n",
              "      <th>title</th>\n",
              "    </tr>\n",
              "    <tr>\n",
              "      <th>date</th>\n",
              "      <th></th>\n",
              "      <th></th>\n",
              "      <th></th>\n",
              "    </tr>\n",
              "  </thead>\n",
              "  <tbody>\n",
              "    <tr>\n",
              "      <th>2009-11-03</th>\n",
              "      <td>SCI - Corrupção passiva, 5ª CCR - Corrupção pa...</td>\n",
              "      <td>AC</td>\n",
              "      <td>11.03.2009 - INQ 0007031-39.2014.4.01.3000 (JF...</td>\n",
              "    </tr>\n",
              "    <tr>\n",
              "      <th>2009-12-18</th>\n",
              "      <td>SCI - Corrupção ativa, 5ª CCR - Corrupção ativa</td>\n",
              "      <td>AC</td>\n",
              "      <td>18.12.2009 - INQ 0015790-31.2010.4.01.3000 (JF...</td>\n",
              "    </tr>\n",
              "    <tr>\n",
              "      <th>2010-06-29</th>\n",
              "      <td>SCI - Corrupção ativa, 5ª CCR - Corrupção ativa</td>\n",
              "      <td>AC</td>\n",
              "      <td>29.06.2010 - INQ 00181/2010 (DPF/AC), PR-AC</td>\n",
              "    </tr>\n",
              "    <tr>\n",
              "      <th>2010-07-10</th>\n",
              "      <td>SCI - Corrupção passiva, 5ª CCR - Corrupção pa...</td>\n",
              "      <td>AC</td>\n",
              "      <td>07.10.2010 - INQ 0002501-94.2011.4.01.3000 (JF...</td>\n",
              "    </tr>\n",
              "    <tr>\n",
              "      <th>2009-03-02</th>\n",
              "      <td>SCI - Corrupção passiva, 5ª CCR - Corrupção pa...</td>\n",
              "      <td>AL</td>\n",
              "      <td>03.02.2009 - INQ 2009.80.00.001342-8 (JF-AL, 7...</td>\n",
              "    </tr>\n",
              "    <tr>\n",
              "      <th>...</th>\n",
              "      <td>...</td>\n",
              "      <td>...</td>\n",
              "      <td>...</td>\n",
              "    </tr>\n",
              "    <tr>\n",
              "      <th>2014-03-09</th>\n",
              "      <td>SCI - Estelionato Majorado, 2ª CCR - Esteliona...</td>\n",
              "      <td>AL</td>\n",
              "      <td>03.09.2014 - INQ 0000077-93.2017.4.05.8000 (JF...</td>\n",
              "    </tr>\n",
              "    <tr>\n",
              "      <th>2014-05-27</th>\n",
              "      <td>SCI - Estelionato Majorado, 2ª CCR - Esteliona...</td>\n",
              "      <td>MA</td>\n",
              "      <td>27.05.2014 - INQ 00078/2014 (DPF/CAX), PRM-CAX...</td>\n",
              "    </tr>\n",
              "    <tr>\n",
              "      <th>2014-03-18</th>\n",
              "      <td>SCI - Corrupção passiva, 5ª CCR - Corrupção pa...</td>\n",
              "      <td>RN</td>\n",
              "      <td>18.03.2014 - IPL 0000544-41.2014.4.05.8400 (JF...</td>\n",
              "    </tr>\n",
              "    <tr>\n",
              "      <th>2014-02-21</th>\n",
              "      <td>SCI - Corrupção passiva, 5ª CCR - Corrupção pa...</td>\n",
              "      <td>PE</td>\n",
              "      <td>21.02.2014 - RE 00023/2015 (DPF/PE), PR-PE</td>\n",
              "    </tr>\n",
              "    <tr>\n",
              "      <th>2014-07-08</th>\n",
              "      <td>SCI - Estelionato Majorado, 2ª CCR - Esteliona...</td>\n",
              "      <td>MA</td>\n",
              "      <td>07.08.2014 - IP 0002315-55.2018.4.01.3702 (JF/...</td>\n",
              "    </tr>\n",
              "  </tbody>\n",
              "</table>\n",
              "<p>4673 rows × 3 columns</p>\n",
              "</div>\n",
              "    <div class=\"colab-df-buttons\">\n",
              "\n",
              "  <div class=\"colab-df-container\">\n",
              "    <button class=\"colab-df-convert\" onclick=\"convertToInteractive('df-b56e2f2e-0546-4e63-912c-d1f319d56ede')\"\n",
              "            title=\"Convert this dataframe to an interactive table.\"\n",
              "            style=\"display:none;\">\n",
              "\n",
              "  <svg xmlns=\"http://www.w3.org/2000/svg\" height=\"24px\" viewBox=\"0 -960 960 960\">\n",
              "    <path d=\"M120-120v-720h720v720H120Zm60-500h600v-160H180v160Zm220 220h160v-160H400v160Zm0 220h160v-160H400v160ZM180-400h160v-160H180v160Zm440 0h160v-160H620v160ZM180-180h160v-160H180v160Zm440 0h160v-160H620v160Z\"/>\n",
              "  </svg>\n",
              "    </button>\n",
              "\n",
              "  <style>\n",
              "    .colab-df-container {\n",
              "      display:flex;\n",
              "      gap: 12px;\n",
              "    }\n",
              "\n",
              "    .colab-df-convert {\n",
              "      background-color: #E8F0FE;\n",
              "      border: none;\n",
              "      border-radius: 50%;\n",
              "      cursor: pointer;\n",
              "      display: none;\n",
              "      fill: #1967D2;\n",
              "      height: 32px;\n",
              "      padding: 0 0 0 0;\n",
              "      width: 32px;\n",
              "    }\n",
              "\n",
              "    .colab-df-convert:hover {\n",
              "      background-color: #E2EBFA;\n",
              "      box-shadow: 0px 1px 2px rgba(60, 64, 67, 0.3), 0px 1px 3px 1px rgba(60, 64, 67, 0.15);\n",
              "      fill: #174EA6;\n",
              "    }\n",
              "\n",
              "    .colab-df-buttons div {\n",
              "      margin-bottom: 4px;\n",
              "    }\n",
              "\n",
              "    [theme=dark] .colab-df-convert {\n",
              "      background-color: #3B4455;\n",
              "      fill: #D2E3FC;\n",
              "    }\n",
              "\n",
              "    [theme=dark] .colab-df-convert:hover {\n",
              "      background-color: #434B5C;\n",
              "      box-shadow: 0px 1px 3px 1px rgba(0, 0, 0, 0.15);\n",
              "      filter: drop-shadow(0px 1px 2px rgba(0, 0, 0, 0.3));\n",
              "      fill: #FFFFFF;\n",
              "    }\n",
              "  </style>\n",
              "\n",
              "    <script>\n",
              "      const buttonEl =\n",
              "        document.querySelector('#df-b56e2f2e-0546-4e63-912c-d1f319d56ede button.colab-df-convert');\n",
              "      buttonEl.style.display =\n",
              "        google.colab.kernel.accessAllowed ? 'block' : 'none';\n",
              "\n",
              "      async function convertToInteractive(key) {\n",
              "        const element = document.querySelector('#df-b56e2f2e-0546-4e63-912c-d1f319d56ede');\n",
              "        const dataTable =\n",
              "          await google.colab.kernel.invokeFunction('convertToInteractive',\n",
              "                                                    [key], {});\n",
              "        if (!dataTable) return;\n",
              "\n",
              "        const docLinkHtml = 'Like what you see? Visit the ' +\n",
              "          '<a target=\"_blank\" href=https://colab.research.google.com/notebooks/data_table.ipynb>data table notebook</a>'\n",
              "          + ' to learn more about interactive tables.';\n",
              "        element.innerHTML = '';\n",
              "        dataTable['output_type'] = 'display_data';\n",
              "        await google.colab.output.renderOutput(dataTable, element);\n",
              "        const docLink = document.createElement('div');\n",
              "        docLink.innerHTML = docLinkHtml;\n",
              "        element.appendChild(docLink);\n",
              "      }\n",
              "    </script>\n",
              "  </div>\n",
              "\n",
              "\n",
              "<div id=\"df-33bf0add-87a0-4634-89f3-3796a5bbee05\">\n",
              "  <button class=\"colab-df-quickchart\" onclick=\"quickchart('df-33bf0add-87a0-4634-89f3-3796a5bbee05')\"\n",
              "            title=\"Suggest charts\"\n",
              "            style=\"display:none;\">\n",
              "\n",
              "<svg xmlns=\"http://www.w3.org/2000/svg\" height=\"24px\"viewBox=\"0 0 24 24\"\n",
              "     width=\"24px\">\n",
              "    <g>\n",
              "        <path d=\"M19 3H5c-1.1 0-2 .9-2 2v14c0 1.1.9 2 2 2h14c1.1 0 2-.9 2-2V5c0-1.1-.9-2-2-2zM9 17H7v-7h2v7zm4 0h-2V7h2v10zm4 0h-2v-4h2v4z\"/>\n",
              "    </g>\n",
              "</svg>\n",
              "  </button>\n",
              "\n",
              "<style>\n",
              "  .colab-df-quickchart {\n",
              "      --bg-color: #E8F0FE;\n",
              "      --fill-color: #1967D2;\n",
              "      --hover-bg-color: #E2EBFA;\n",
              "      --hover-fill-color: #174EA6;\n",
              "      --disabled-fill-color: #AAA;\n",
              "      --disabled-bg-color: #DDD;\n",
              "  }\n",
              "\n",
              "  [theme=dark] .colab-df-quickchart {\n",
              "      --bg-color: #3B4455;\n",
              "      --fill-color: #D2E3FC;\n",
              "      --hover-bg-color: #434B5C;\n",
              "      --hover-fill-color: #FFFFFF;\n",
              "      --disabled-bg-color: #3B4455;\n",
              "      --disabled-fill-color: #666;\n",
              "  }\n",
              "\n",
              "  .colab-df-quickchart {\n",
              "    background-color: var(--bg-color);\n",
              "    border: none;\n",
              "    border-radius: 50%;\n",
              "    cursor: pointer;\n",
              "    display: none;\n",
              "    fill: var(--fill-color);\n",
              "    height: 32px;\n",
              "    padding: 0;\n",
              "    width: 32px;\n",
              "  }\n",
              "\n",
              "  .colab-df-quickchart:hover {\n",
              "    background-color: var(--hover-bg-color);\n",
              "    box-shadow: 0 1px 2px rgba(60, 64, 67, 0.3), 0 1px 3px 1px rgba(60, 64, 67, 0.15);\n",
              "    fill: var(--button-hover-fill-color);\n",
              "  }\n",
              "\n",
              "  .colab-df-quickchart-complete:disabled,\n",
              "  .colab-df-quickchart-complete:disabled:hover {\n",
              "    background-color: var(--disabled-bg-color);\n",
              "    fill: var(--disabled-fill-color);\n",
              "    box-shadow: none;\n",
              "  }\n",
              "\n",
              "  .colab-df-spinner {\n",
              "    border: 2px solid var(--fill-color);\n",
              "    border-color: transparent;\n",
              "    border-bottom-color: var(--fill-color);\n",
              "    animation:\n",
              "      spin 1s steps(1) infinite;\n",
              "  }\n",
              "\n",
              "  @keyframes spin {\n",
              "    0% {\n",
              "      border-color: transparent;\n",
              "      border-bottom-color: var(--fill-color);\n",
              "      border-left-color: var(--fill-color);\n",
              "    }\n",
              "    20% {\n",
              "      border-color: transparent;\n",
              "      border-left-color: var(--fill-color);\n",
              "      border-top-color: var(--fill-color);\n",
              "    }\n",
              "    30% {\n",
              "      border-color: transparent;\n",
              "      border-left-color: var(--fill-color);\n",
              "      border-top-color: var(--fill-color);\n",
              "      border-right-color: var(--fill-color);\n",
              "    }\n",
              "    40% {\n",
              "      border-color: transparent;\n",
              "      border-right-color: var(--fill-color);\n",
              "      border-top-color: var(--fill-color);\n",
              "    }\n",
              "    60% {\n",
              "      border-color: transparent;\n",
              "      border-right-color: var(--fill-color);\n",
              "    }\n",
              "    80% {\n",
              "      border-color: transparent;\n",
              "      border-right-color: var(--fill-color);\n",
              "      border-bottom-color: var(--fill-color);\n",
              "    }\n",
              "    90% {\n",
              "      border-color: transparent;\n",
              "      border-bottom-color: var(--fill-color);\n",
              "    }\n",
              "  }\n",
              "</style>\n",
              "\n",
              "  <script>\n",
              "    async function quickchart(key) {\n",
              "      const quickchartButtonEl =\n",
              "        document.querySelector('#' + key + ' button');\n",
              "      quickchartButtonEl.disabled = true;  // To prevent multiple clicks.\n",
              "      quickchartButtonEl.classList.add('colab-df-spinner');\n",
              "      try {\n",
              "        const charts = await google.colab.kernel.invokeFunction(\n",
              "            'suggestCharts', [key], {});\n",
              "      } catch (error) {\n",
              "        console.error('Error during call to suggestCharts:', error);\n",
              "      }\n",
              "      quickchartButtonEl.classList.remove('colab-df-spinner');\n",
              "      quickchartButtonEl.classList.add('colab-df-quickchart-complete');\n",
              "    }\n",
              "    (() => {\n",
              "      let quickchartButtonEl =\n",
              "        document.querySelector('#df-33bf0add-87a0-4634-89f3-3796a5bbee05 button');\n",
              "      quickchartButtonEl.style.display =\n",
              "        google.colab.kernel.accessAllowed ? 'block' : 'none';\n",
              "    })();\n",
              "  </script>\n",
              "</div>\n",
              "\n",
              "  <div id=\"id_451b43ff-67af-4991-bf4f-bb363034bba7\">\n",
              "    <style>\n",
              "      .colab-df-generate {\n",
              "        background-color: #E8F0FE;\n",
              "        border: none;\n",
              "        border-radius: 50%;\n",
              "        cursor: pointer;\n",
              "        display: none;\n",
              "        fill: #1967D2;\n",
              "        height: 32px;\n",
              "        padding: 0 0 0 0;\n",
              "        width: 32px;\n",
              "      }\n",
              "\n",
              "      .colab-df-generate:hover {\n",
              "        background-color: #E2EBFA;\n",
              "        box-shadow: 0px 1px 2px rgba(60, 64, 67, 0.3), 0px 1px 3px 1px rgba(60, 64, 67, 0.15);\n",
              "        fill: #174EA6;\n",
              "      }\n",
              "\n",
              "      [theme=dark] .colab-df-generate {\n",
              "        background-color: #3B4455;\n",
              "        fill: #D2E3FC;\n",
              "      }\n",
              "\n",
              "      [theme=dark] .colab-df-generate:hover {\n",
              "        background-color: #434B5C;\n",
              "        box-shadow: 0px 1px 3px 1px rgba(0, 0, 0, 0.15);\n",
              "        filter: drop-shadow(0px 1px 2px rgba(0, 0, 0, 0.3));\n",
              "        fill: #FFFFFF;\n",
              "      }\n",
              "    </style>\n",
              "    <button class=\"colab-df-generate\" onclick=\"generateWithVariable('df_corruption')\"\n",
              "            title=\"Generate code using this dataframe.\"\n",
              "            style=\"display:none;\">\n",
              "\n",
              "  <svg xmlns=\"http://www.w3.org/2000/svg\" height=\"24px\"viewBox=\"0 0 24 24\"\n",
              "       width=\"24px\">\n",
              "    <path d=\"M7,19H8.4L18.45,9,17,7.55,7,17.6ZM5,21V16.75L18.45,3.32a2,2,0,0,1,2.83,0l1.4,1.43a1.91,1.91,0,0,1,.58,1.4,1.91,1.91,0,0,1-.58,1.4L9.25,21ZM18.45,9,17,7.55Zm-12,3A5.31,5.31,0,0,0,4.9,8.1,5.31,5.31,0,0,0,1,6.5,5.31,5.31,0,0,0,4.9,4.9,5.31,5.31,0,0,0,6.5,1,5.31,5.31,0,0,0,8.1,4.9,5.31,5.31,0,0,0,12,6.5,5.46,5.46,0,0,0,6.5,12Z\"/>\n",
              "  </svg>\n",
              "    </button>\n",
              "    <script>\n",
              "      (() => {\n",
              "      const buttonEl =\n",
              "        document.querySelector('#id_451b43ff-67af-4991-bf4f-bb363034bba7 button.colab-df-generate');\n",
              "      buttonEl.style.display =\n",
              "        google.colab.kernel.accessAllowed ? 'block' : 'none';\n",
              "\n",
              "      buttonEl.onclick = () => {\n",
              "        google.colab.notebook.generateWithVariable('df_corruption');\n",
              "      }\n",
              "      })();\n",
              "    </script>\n",
              "  </div>\n",
              "\n",
              "    </div>\n",
              "  </div>\n"
            ],
            "application/vnd.google.colaboratory.intrinsic+json": {
              "type": "dataframe",
              "variable_name": "df_corruption",
              "summary": "{\n  \"name\": \"df_corruption\",\n  \"rows\": 4673,\n  \"fields\": [\n    {\n      \"column\": \"date\",\n      \"properties\": {\n        \"dtype\": \"date\",\n        \"min\": \"2009-01-04 00:00:00\",\n        \"max\": \"2020-12-01 00:00:00\",\n        \"num_unique_values\": 2160,\n        \"samples\": [\n          \"2014-08-19 00:00:00\",\n          \"2012-12-12 00:00:00\",\n          \"2014-08-15 00:00:00\"\n        ],\n        \"semantic_type\": \"\",\n        \"description\": \"\"\n      }\n    },\n    {\n      \"column\": \"offences\",\n      \"properties\": {\n        \"dtype\": \"category\",\n        \"num_unique_values\": 816,\n        \"samples\": [\n          \"SCI - Uso de documento falso, 2\\u00aa CCR - Uso de documento falso, SCI - Corrup\\u00e7\\u00e3o passiva, 5\\u00aa CCR - Corrup\\u00e7\\u00e3o passiva, SCI - Prevarica\\u00e7\\u00e3o, 2\\u00aa CCR - Prevarica\\u00e7\\u00e3o, 5\\u00aa CCR - Prevarica\\u00e7\\u00e3o, SCI - Corrup\\u00e7\\u00e3o ativa, 5\\u00aa CCR - Corrup\\u00e7\\u00e3o ativa, SCI - Inser\\u00e7\\u00e3o de dados falsos em sistema de informa\\u00e7\\u00f5es, 2\\u00aa CCR - Inser\\u00e7\\u00e3o de dados falsos em sistema de informa\\u00e7\\u00f5es, 5\\u00aa CCR - Inser\\u00e7\\u00e3o de dados falsos em sistema de informa\\u00e7\\u00f5es\",\n          \"SCI - Recepta\\u00e7\\u00e3o, 2\\u00aa CCR - Recepta\\u00e7\\u00e3o, SCI - Corrup\\u00e7\\u00e3o passiva, 5\\u00aa CCR - Corrup\\u00e7\\u00e3o passiva, SCI - Viola\\u00e7\\u00e3o do sigilo funcional, 5\\u00aa CCR - Viola\\u00e7\\u00e3o do sigilo funcional, SCI - Corrup\\u00e7\\u00e3o ativa, 5\\u00aa CCR - Corrup\\u00e7\\u00e3o ativa\",\n          \"SCI - Quadrilha ou Bando, 2\\u00aa CCR - Quadrilha ou Bando, SCI - Corrup\\u00e7\\u00e3o passiva, 5\\u00aa CCR - Corrup\\u00e7\\u00e3o passiva, SCI - Crimes de Responsabilidade, 2\\u00aa CCR - Crimes de Responsabilidade, 5\\u00aa CCR - Crimes de Responsabilidade, SCI - Licita\\u00e7\\u00f5es, 1\\u00aa CCR - Licita\\u00e7\\u00f5es, 5\\u00aa CCR - Licita\\u00e7\\u00f5es\"\n        ],\n        \"semantic_type\": \"\",\n        \"description\": \"\"\n      }\n    },\n    {\n      \"column\": \"region\",\n      \"properties\": {\n        \"dtype\": \"category\",\n        \"num_unique_values\": 27,\n        \"samples\": [\n          \"PB\",\n          \"RR\",\n          \"RN\"\n        ],\n        \"semantic_type\": \"\",\n        \"description\": \"\"\n      }\n    },\n    {\n      \"column\": \"title\",\n      \"properties\": {\n        \"dtype\": \"string\",\n        \"num_unique_values\": 4673,\n        \"samples\": [\n          \"05.10.2018 - RPCR 1021095-59.2018.4.01.3400 (JF-DF, 10\\u00aa VF), PR-DF\",\n          \"03.02.2016 - INQ 0001802-12.2016.4.01.3200 (JF-AM, 2V/JF-AM), PR-AM\",\n          \"16.08.2018 - INQ 5001330-39.2018.4.02.5103 (JFRJ/CAM, 02VF-CA), PRM-CAMPOS-RJ\"\n        ],\n        \"semantic_type\": \"\",\n        \"description\": \"\"\n      }\n    }\n  ]\n}"
            }
          },
          "metadata": {},
          "execution_count": 6
        }
      ]
    },
    {
      "cell_type": "code",
      "execution_count": 7,
      "metadata": {
        "colab": {
          "base_uri": "https://localhost:8080/",
          "height": 501
        },
        "id": "QxMhp5h2REaQ",
        "outputId": "182905be-54c6-4a5e-afe4-d70294ce6cd8"
      },
      "outputs": [
        {
          "output_type": "stream",
          "name": "stderr",
          "text": [
            "<ipython-input-7-0af8cb7d8cef>:2: FutureWarning: 'Y' is deprecated and will be removed in a future version, please use 'YE' instead.\n",
            "  df_corruption.sort_index()['2011':'2019'].resample('Y').title.count().plot()\n"
          ]
        },
        {
          "output_type": "execute_result",
          "data": {
            "text/plain": [
              "<Axes: xlabel='date'>"
            ]
          },
          "metadata": {},
          "execution_count": 7
        },
        {
          "output_type": "display_data",
          "data": {
            "text/plain": [
              "<Figure size 640x480 with 1 Axes>"
            ],
            "image/png": "[encoded data removed]"
          },
          "metadata": {}
        }
      ],
      "source": [
        "# Used the .sort_index() just to get rid off the deprecation warning\n",
        "df_corruption.sort_index()['2011':'2019'].resample('Y').title.count().plot()"
      ]
    },
    {
      "cell_type": "code",
      "execution_count": 8,
      "metadata": {
        "colab": {
          "base_uri": "https://localhost:8080/",
          "height": 503
        },
        "id": "Q1CP--chREaR",
        "outputId": "f9862728-61cf-4141-ce02-7c95a7120d19"
      },
      "outputs": [
        {
          "output_type": "stream",
          "name": "stderr",
          "text": [
            "<ipython-input-8-524d466a6891>:1: FutureWarning: 'M' is deprecated and will be removed in a future version, please use 'ME' instead.\n",
            "  df_corruption.sort_index()['2011':'2019'].resample('M').title.count().plot()\n"
          ]
        },
        {
          "output_type": "execute_result",
          "data": {
            "text/plain": [
              "<Axes: xlabel='date'>"
            ]
          },
          "metadata": {},
          "execution_count": 8
        },
        {
          "output_type": "display_data",
          "data": {
            "text/plain": [
              "<Figure size 640x480 with 1 Axes>"
            ],
            "image/png": "[encoded data removed]"
          },
          "metadata": {}
        }
      ],
      "source": [
        "df_corruption.sort_index()['2011':'2019'].resample('M').title.count().plot()"
      ]
    },
    {
      "cell_type": "code",
      "execution_count": 9,
      "metadata": {
        "colab": {
          "base_uri": "https://localhost:8080/",
          "height": 466
        },
        "id": "W1ZIuDylREaS",
        "outputId": "81469d86-1cf0-49a5-9368-b62696778bf2"
      },
      "outputs": [
        {
          "output_type": "execute_result",
          "data": {
            "text/plain": [
              "<Axes: xlabel='date'>"
            ]
          },
          "metadata": {},
          "execution_count": 9
        },
        {
          "output_type": "display_data",
          "data": {
            "text/plain": [
              "<Figure size 640x480 with 1 Axes>"
            ],
            "image/png": "[encoded data removed]"
          },
          "metadata": {}
        }
      ],
      "source": [
        "df_corruption.sort_index()['2010':'2019'].resample('D').title.count().plot()"
      ]
    },
    {
      "cell_type": "code",
      "source": [
        "states = pd.unique(df_corruption['region'])"
      ],
      "metadata": {
        "id": "j7NvZT2PhM7R"
      },
      "execution_count": 10,
      "outputs": []
    },
    {
      "cell_type": "code",
      "source": [
        "# Ensure the DataFrame's index is a DatetimeIndex and sorted\n",
        "df_corruption.index = pd.to_datetime(df_corruption.index)\n",
        "df_corruption = df_corruption.sort_index()"
      ],
      "metadata": {
        "id": "cN3Q3YhUEXW-"
      },
      "execution_count": 11,
      "outputs": []
    },
    {
      "cell_type": "code",
      "source": [
        "fig = plt.figure(figsize=(17,30))\n",
        "\n",
        "fig.subplots_adjust(hspace = 0.5) # avoid x axis supperposition\n",
        "\n",
        "for i in range(0,len(states),1):\n",
        "    plt.subplot(int(len(states)/3),3,i+1)\n",
        "    plt.plot((df_corruption['2011':'2019'].loc[df_corruption['2011':'2019']['region'].str.contains(states[i]) ==True].resample('YE').count()),color = 'cornflowerblue', lw = 1)\n",
        "    #plt.axvline(2013, color='red', lw=1, alpha=1)\n",
        "    plt.legend(('Corruption','Anti-Corruption Shock'),loc=2)\n",
        "    #plt.xlabel('Years')\n",
        "    plt.ylabel('Quantity')\n",
        "    plt.title('Yearly Corruption Detections in ' + states[i])\n",
        "plt.show()\n",
        "#fig.savefig('./Plottings/states.pdf', transparent= True)"
      ],
      "metadata": {
        "id": "toVZkkmQgth2"
      },
      "execution_count": null,
      "outputs": []
    },
    {
      "cell_type": "code",
      "source": [],
      "metadata": {
        "id": "JJTKYRxBhGN3"
      },
      "execution_count": null,
      "outputs": []
    },
    {
      "cell_type": "markdown",
      "source": [
        "# Empirical Strategy\n",
        "\n",
        "1 - Based on Miller (2009), I'll try to fit a polinomial curve after the relevant schok; and\n",
        "\n",
        "2 - Run a best fit regresion (lowess) in the entire set and check if there are points of spike and long term decrease"
      ],
      "metadata": {
        "id": "zTdxKwTBrBsd"
      }
    },
    {
      "cell_type": "markdown",
      "source": [
        "## 1 - Corruption Deterrence Empirical Model\n",
        "\n",
        "\n",
        "Following Berlin, Qin and Spagnolo (2018) , a possible OLS regression (Poisson Regression) using feasible data from the Brazilian Federal Police of initiated investigations of corruption as dependent variable $Y$ can be expressed by:\n",
        "\n",
        "$$Y_{t}=\\beta_{0}+\\beta_1 D_t+ \\beta _2 T1^{n}_{t}+ \\beta _3 T2^{n}_{t} + \\beta_4 X_{t} + \\varepsilon_{t}$$\n",
        "\n",
        "For,\n",
        "\n",
        "$t$= Month after January 2009; and\n",
        "\n",
        "$n$= Order of the intended tested polynomial.\n",
        "\n",
        "\n",
        "Where\n",
        "\n",
        "$Y_{t}$= Number of initiated investigations for corruption crimes (Or corruption Related Crimes);\n",
        "\n",
        "$D_t$= Dummy for the impact of the enforcements, being 0 before August 2013 and 1 after;\n",
        "\n",
        "$T1$= Time effect of all sample. Being 1 at the first observation 2 at the next and so on;\n",
        "\n",
        "$T2$= Time effect from the beginning of the enforcement shock. Being 1 after august 2013, 2 in the next month and so on; and\n",
        "\n",
        "$\\varepsilon_{it}$= Is the error from functional predictions, it is expected to be normally distributed and i.i.d.\n",
        "\n",
        "\n",
        "In order to test different shaped polynomials that might fit the expected detection curve,  the variables $T1$ and $T2$ can be tested on different order polynomials to check different goodness of fit."
      ],
      "metadata": {
        "id": "PDiyDi90rKWk"
      }
    },
    {
      "cell_type": "code",
      "source": [
        "import statsmodels.api as sm\n",
        "from statsmodels.sandbox.regression.predstd import wls_prediction_std\n",
        "from statsmodels.iolib.summary2 import summary_col\n",
        "\n",
        "!pip install Stargazer\n",
        "from stargazer.stargazer import Stargazer\n",
        "from IPython.core.display import HTML"
      ],
      "metadata": {
        "id": "5HaMqo5CrFam"
      },
      "execution_count": null,
      "outputs": []
    },
    {
      "cell_type": "markdown",
      "source": [
        "### Yearly Regressions"
      ],
      "metadata": {
        "id": "8YFljgUaCo5s"
      }
    },
    {
      "cell_type": "code",
      "source": [
        "#Yearly Variables\n",
        "#Creating the yearly dataframe\n",
        "ydf = df_corruption['2011':'2019'].resample('Y').count()\n",
        "\n",
        "ydf['cons'] = 1\n",
        "\n",
        "\n",
        "# creat a dummy with 0 before 2013 and 1 after #\n",
        "dummy = []\n",
        "for i in (range(2010,2019)):\n",
        "    if i < 2014:\n",
        "        dummy.append(0)\n",
        "    else:\n",
        "        dummy.append(1)\n",
        "\n",
        "ydf['dummy'] = dummy\n",
        "ydf['year'] = range(2011,2020,1)\n",
        "# creat a list of 1 to 10#\n",
        "yt1 = list(range(1,10))\n",
        "\n",
        "ydf['t1'] = yt1\n",
        "\n",
        "\n",
        "# creat a polynomial root after 2013#\n",
        "yt2= []                  # creat a polynom root after 2013#\n",
        "for i in (range(2010,2019)):\n",
        "    if i < 2015:\n",
        "        yt2.append(0)\n",
        "    else:\n",
        "        yt2.append(i-2015)\n",
        "ydf['t2'] = yt2\n",
        "\n",
        "# Creating the higher order polynoms\n",
        "\n",
        "ydf['s1'] = np.power(yt1,2)\n",
        "ydf['c1'] = np.power(yt1,3)\n",
        "ydf['s2'] = np.power(yt2,2)\n",
        "ydf['c2'] = np.power(yt2,3)\n",
        "ydf['q2'] = np.power(yt2,3)\n",
        "ydf['f2'] = np.power(yt2,3)\n"
      ],
      "metadata": {
        "id": "qZwJjdc-sjPW"
      },
      "execution_count": null,
      "outputs": []
    },
    {
      "cell_type": "code",
      "source": [
        "ydf.head(20)"
      ],
      "metadata": {
        "id": "b4pUcFq3uqgQ"
      },
      "execution_count": null,
      "outputs": []
    },
    {
      "cell_type": "code",
      "source": [
        "#CORRUPTION ONLY\n",
        "results1 = sm.OLS(ydf['offences'], ydf[['cons','dummy']]).fit()\n",
        "results2 = sm.OLS(ydf['offences'], ydf[['cons','dummy','t1','t2','s2','c2','q2','f2']]).fit()\n",
        "results3 = sm.OLS(ydf['offences'], ydf[['cons','dummy','t1','t2','s1','s2']]).fit()\n",
        "results4 = sm.OLS(ydf['offences'], ydf[['cons','dummy','t1','t2','s2','c2']]).fit()\n",
        "stargazer = Stargazer([results1, results2,results3,results4])\n",
        "stargazer.covariate_order(['cons','dummy'])\n",
        "HTML(stargazer.render_html())"
      ],
      "metadata": {
        "id": "JNiNdKpItWWg"
      },
      "execution_count": null,
      "outputs": []
    },
    {
      "cell_type": "code",
      "source": [
        "\n",
        "fig = plt.figure(figsize=(20,10))\n",
        "\n",
        "result_list = [results1,results2,results3,results4]\n",
        "theta = 4\n",
        "\n",
        "for i in range(len(result_list)):\n",
        "  plt.subplot(2,2,i+1)\n",
        "  iv_l1 = result_list[i].get_prediction().summary_frame()[\"obs_ci_lower\"]\n",
        "  iv_u1 = result_list[i].get_prediction().summary_frame()[\"obs_ci_upper\"]\n",
        "  plt.plot( ydf['t1'], ydf['offences'], '.',lw=1)\n",
        "  plt.plot(ydf['t1'],result_list[i].fittedvalues, 'k-', lw=0.5)\n",
        "  plt.plot(ydf['t1'], iv_u1, color='red', lw=0.2)\n",
        "  plt.plot( ydf['t1'],iv_l1, color='red', lw=0.2)\n",
        "  plt.axvline(theta, color='black', lw=1, alpha=0.5)\n",
        "  plt.fill_between( ydf['t1'],iv_u1,iv_l1, color='red', alpha=0.06)\n",
        "  plt.legend(('data','OLS','95% Significance'),loc=2)\n",
        "\n",
        "plt.show()\n",
        "\n",
        "#fig.savefig('emp3.pdf')"
      ],
      "metadata": {
        "id": "Xk_02RDJ_vQk"
      },
      "execution_count": null,
      "outputs": []
    },
    {
      "cell_type": "markdown",
      "source": [
        "### Monthly Regressions"
      ],
      "metadata": {
        "id": "pbsZuoO1Cxbk"
      }
    },
    {
      "cell_type": "code",
      "source": [
        "#Monthly\n",
        "\n",
        "mdf = df_corruption['2011':'2019'].resample('M').count()\n",
        "\n",
        "#create a constant\n",
        "\n",
        "mdf['cons'] = 1\n",
        "\n",
        "\n",
        "# creat a dummy with 0 before feb 2014 (x months) and 1 after # Change this to better fit### Lava Jato 17/marco\n",
        "intervention = 42\n",
        "\n",
        "dummy = []\n",
        "for i in (range(0,len(mdf))):\n",
        "    if i <intervention:\n",
        "        dummy.append(0)\n",
        "    else:\n",
        "        dummy.append(1)\n",
        "\n",
        "mdf['dummy'] = dummy\n",
        "\n",
        "# creat a list of 1 to 13#\n",
        "t1 = list(range(0,len(mdf)))\n",
        "\n",
        "mdf['t1'] = t1\n",
        "\n",
        "# creat a polynom root after 2013#\n",
        "t2= []\n",
        "for i in (range(0,len(mdf))):\n",
        "    if i < intervention:\n",
        "        t2.append(0)\n",
        "    else:\n",
        "        t2.append(i-intervention)\n",
        "\n",
        "mdf['t2'] = t2\n",
        "\n",
        "#Creating other orther polynomials\n",
        "\n",
        "mdf['s1'] = np.power(t1,2)\n",
        "mdf['c1'] = np.power(t1,3)\n",
        "mdf['s2'] = np.power(t2,2)\n",
        "mdf['c2'] = np.power(t2,3)\n",
        "mdf['q1'] = np.power(t1,4)\n",
        "mdf['f1'] = np.power(t1,5)\n",
        "mdf['q2'] = np.power(t2,4)\n",
        "mdf['f2'] = np.power(t2,5)\n",
        "\n",
        "mdf = mdf.fillna(0)\n"
      ],
      "metadata": {
        "id": "4owcerHwvKJo"
      },
      "execution_count": null,
      "outputs": []
    },
    {
      "cell_type": "code",
      "source": [
        "mdf.head(5)"
      ],
      "metadata": {
        "id": "vpbw5POkw5GJ"
      },
      "execution_count": null,
      "outputs": []
    },
    {
      "cell_type": "code",
      "source": [
        "#  Corruption\n",
        "results1 = sm.OLS(mdf['offences'], mdf[['cons','dummy']]).fit()\n",
        "results2 = sm.OLS(mdf['offences'], mdf[['cons','dummy','t2']]).fit()\n",
        "results3 = sm.OLS(mdf['offences'], mdf[['cons','dummy','t1','t2']]).fit()\n",
        "results4 = sm.OLS(mdf['offences'], mdf[['cons','dummy','t2','s2']]).fit()\n",
        "results5 = sm.OLS(mdf['offences'], mdf[['cons','dummy','t2','s2','c2','q2']]).fit()\n",
        "results6 = sm.OLS(mdf['offences'], mdf[['cons','dummy','t2','s2','c2','q2','f2']]).fit()\n",
        "stargazer = Stargazer([results1, results2,results3,results4,results5,results6])\n",
        "stargazer.covariate_order(['cons','dummy','t2','s2','c2','q2','f2'])\n",
        "HTML(stargazer.render_html())"
      ],
      "metadata": {
        "id": "k6WKzuOTw6Uz"
      },
      "execution_count": null,
      "outputs": []
    },
    {
      "cell_type": "code",
      "source": [
        "\n",
        "fig = plt.figure(figsize=(16,9))\n",
        "\n",
        "result_list = [results1,results2,results3,results4,results5,results6]\n",
        "theta = intervention\n",
        "\n",
        "for i in range(len(result_list)):\n",
        "  plt.subplot(3,2,i+1)\n",
        "  iv_l1 = result_list[i].get_prediction().summary_frame()[\"obs_ci_lower\"]\n",
        "  iv_u1 = result_list[i].get_prediction().summary_frame()[\"obs_ci_upper\"]\n",
        "  plt.plot( mdf['t1'], mdf['offences'], '.',lw=1)\n",
        "  plt.plot(mdf['t1'],result_list[i].fittedvalues, 'k-', lw=0.5)\n",
        "  plt.plot(mdf['t1'], iv_u1, color='red', lw=0.2)\n",
        "  plt.plot( mdf['t1'],iv_l1, color='red', lw=0.2)\n",
        "  plt.axvline(theta, color='black', lw=1, alpha=0.5)\n",
        "  plt.fill_between( mdf['t1'],iv_u1,iv_l1, color='red', alpha=0.06)\n",
        "  plt.legend(('data','OLS','95% Significance'),loc=2)\n",
        "\n",
        "plt.show()"
      ],
      "metadata": {
        "id": "mA9LrxF-xZtI"
      },
      "execution_count": null,
      "outputs": []
    },
    {
      "cell_type": "code",
      "source": [
        "#  Corruption\n",
        "#\n",
        "results1 = sm.Poisson(mdf['offences'], mdf[['cons','dummy']]).fit()\n",
        "results2 = sm.Poisson(mdf['offences'], mdf[['cons','dummy','t1']]).fit()\n",
        "results3 = sm.Poisson(mdf['offences'], mdf[['cons','dummy','t2']]).fit()\n",
        "results4 = sm.Poisson(mdf['offences'], mdf[['cons','dummy','t1','t2']]).fit()\n",
        "results5 = sm.Poisson(mdf['offences'], mdf[['cons','dummy','t2','s2']]).fit()\n",
        "results6 = sm.Poisson(mdf['offences'], mdf[['cons','dummy','t1','s1','t2','s2']]).fit()\n",
        "stargazer = Stargazer([results1, results2,results3,results4,results5,results6])\n",
        "stargazer.covariate_order(['cons','dummy','t1','t2','s1','s2'])\n",
        "HTML(stargazer.render_html())"
      ],
      "metadata": {
        "id": "kTRt1O8aMuOk"
      },
      "execution_count": null,
      "outputs": []
    },
    {
      "cell_type": "code",
      "source": [
        "results5.params"
      ],
      "metadata": {
        "id": "J5HB_eBZJ-hC"
      },
      "execution_count": null,
      "outputs": []
    },
    {
      "cell_type": "code",
      "source": [
        "\n",
        "fig = plt.figure(figsize=(16,9))\n",
        "\n",
        "result_list = [results1,results2,results3,results4,results5,results6]\n",
        "theta = intervention\n",
        "\n",
        "for i in range(len(result_list)):\n",
        "  plt.subplot(3,2,i+1)\n",
        "  iv_l1 = np.exp(result_list[i].fittedvalues.values - 1.96*((result_list[i].fittedvalues.values/len(result_list[i].fittedvalues.values))**(1/2)))\n",
        "  iv_u1 = np.exp(result_list[i].fittedvalues.values + 1.96*((result_list[i].fittedvalues.values/len(result_list[i].fittedvalues.values))**(1/2)))\n",
        "  plt.plot( mdf['t1'], mdf['offences'], '.',lw=1)\n",
        "  plt.plot(mdf['t1'],np.exp(result_list[i].fittedvalues), 'k-', lw=0.5)\n",
        "  plt.plot(mdf['t1'], iv_u1, color='red', lw=0.2)\n",
        "  plt.plot( mdf['t1'],iv_l1, color='red', lw=0.2)\n",
        "  plt.axvline(theta, color='black', lw=1, alpha=0.5)\n",
        "  plt.fill_between( mdf['t1'],iv_u1,iv_l1, color='red', alpha=0.06)\n",
        "  plt.title('Equation ({})'.format(str(i+1)))\n",
        "  plt.xticks(np.arange(0, len(mdf) +1 , step=len(mdf)/9), np.arange(2010,2020,1))  # Set label locations.\n",
        "  plt.tight_layout()\n",
        "  plt.legend(('data','Poisson Regression','95% Significance'),loc=2)\n",
        "  #fig.savefig('emp3.pdf')\n",
        "\n",
        "plt.show()"
      ],
      "metadata": {
        "id": "CPFkLXArM7ek"
      },
      "execution_count": null,
      "outputs": []
    },
    {
      "cell_type": "markdown",
      "source": [
        "# Multivariable Regressions\n",
        "\n",
        "Adding, GDP growth, Unemployment rate and onther variables.\n",
        "\n",
        "Adding state fixed effects."
      ],
      "metadata": {
        "id": "ZT-7cLBCGueJ"
      }
    },
    {
      "cell_type": "code",
      "source": [
        "#Download the data from my Github Repo\n",
        "!wget https://raw.githubusercontent.com/caxaxa/PhD_Empirics/main/Data/GDP.csv\n",
        "!wget https://raw.githubusercontent.com/caxaxa/PhD_Empirics/main/Data/unemployment2.csv\n",
        "!wget https://raw.githubusercontent.com/caxaxa/PhD_Empirics/main/Data/interest_rate.csv\n",
        "!wget https://raw.githubusercontent.com/caxaxa/PhD_Empirics/main/Data/IPCA.csv"
      ],
      "metadata": {
        "id": "D1VTHXk0Ksbd"
      },
      "execution_count": null,
      "outputs": []
    },
    {
      "cell_type": "code",
      "source": [
        "# CSV dowloaded from 'ipeadata.gov.br' *Fonte: IPEA * Last trim expected\n",
        "tgdp = pd.read_csv('./GDP.csv')\n",
        "\n",
        "tgdp = tgdp.rename(columns={ 'PIB - preços de mercado - var. real trim. - (%) - Instituto Brasileiro de Geografia e Estatística- Sistema de Contas Nacionais Trimestrais (IBGE/SCN Trimestral) - SCN104_PIBPMG104': 'gdp'})\n",
        "tgdp = pd.DataFrame(tgdp)\n",
        "#dropting uncessary columns\n",
        "tgdp = tgdp.drop(['Data'], axis=1)\n",
        "\n",
        "tgdp = tgdp/100\n",
        "#creating the date column in datetime format:\n",
        "tgdp['date'] = pd.date_range('1996-01-01','2020-01-01', freq='Q')\n",
        "\n",
        "#setting a date index:\n",
        "tgdp = tgdp.set_index('date')\n",
        "\n",
        "\n",
        "#Arranging the data to fit Multivariate Monthly regression:\n",
        "# taking average of quarterly growth to monthly observations: (other possible method is .pad() insted of .bfill())\n",
        "mdf['gdp'] = tgdp['2008-12-01':'2019'].resample('M', closed = 'left').bfill()\n",
        "\n",
        "#mdf['l_gdp'] = mdf['l_gdp'].fillna(method = 'bfill')\n",
        "\n",
        "#Create a Lagged gdp vaariable for robustness check\n",
        "\n",
        "mdf['l_gdp'] = tgdp['2007-12-01':'2018'].resample('M', closed = 'left').bfill()\n",
        "\n",
        "\n",
        "mdf['l_gdp'] = mdf['l_gdp'].fillna(method = 'ffill')\n",
        "\n",
        "\n",
        "\n",
        "\n"
      ],
      "metadata": {
        "id": "RkJng3nW2XLb"
      },
      "execution_count": null,
      "outputs": []
    },
    {
      "cell_type": "code",
      "source": [
        "# CSV dowloaded from 'ipeadata.gov.br' IBGE PNAD -CORREC FOR BEFORE 2012 from SEAD\n",
        "unemployment = pd.read_csv('./unemployment2.csv')\n",
        "\n",
        "unemployment = unemployment.rename(columns={ 'Taxa de desocupação - (%) - Instituto Brasileiro de Geografia e Estatística- Pesquisa Nacional por Amostra de Domicílios Contínua (IBGE/PNAD Contínua) - PNADC12_TDESOC12': 'unemployment'})\n",
        "unemployment = pd.DataFrame(unemployment)\n",
        "#dropting uncessary columns\n",
        "unemployment = unemployment.drop(['Unnamed: 2','Data'],axis = 1)\n",
        "\n",
        "unemplyment = unemployment/100\n",
        "#creating the date column in datetime format:\n",
        "unemployment['date'] = pd.date_range('2009','2020', freq='M')\n",
        "\n",
        "#setting a date index:\n",
        "unemployment = unemployment.set_index('date')\n",
        "\n",
        "mdf['unemployment'] = unemployment['2009':'2020'].resample('M').sum()\n",
        "\n",
        "mdf['l_unemployment'] = unemployment['2008':'2019'].resample('M').sum()\n",
        "\n",
        "\n",
        "\n"
      ],
      "metadata": {
        "id": "MI8LsvQcG4VW"
      },
      "execution_count": null,
      "outputs": []
    },
    {
      "cell_type": "code",
      "source": [
        "# CSV dowloaded from 'ipeadata.gov.br'\n",
        "interest = pd.read_csv('./interest_rate.csv')\n",
        "\n",
        "interest = interest.rename(columns={ 'Taxa de juros - Over / Selic - (% a.m.) - Banco Central do Brasil- Boletim- Seção mercado financeiro e de capitais (Bacen/Boletim/M. Finan.) - BM12_TJOVER12': 'interest'})\n",
        "interest = pd.DataFrame(interest)\n",
        "#dropting uncessary columns\n",
        "interest = interest.drop(['Unnamed: 2','Data'],axis = 1)\n",
        "interes = interest/100\n",
        "\n",
        "#creating the date column in datetime format:\n",
        "interest['date'] = pd.date_range('1973-12-01','2020-02-01', freq='M')\n",
        "\n",
        "#setting a date index:\n",
        "interest = interest.set_index('date')\n",
        "\n",
        "mdf['interest'] = interest['2009':'2020'].resample('M').sum()\n",
        "\n",
        "mdf['l_interest'] = interest['2008':'2019'].resample('M').sum()"
      ],
      "metadata": {
        "id": "dTcGE1ZfG9V2"
      },
      "execution_count": null,
      "outputs": []
    },
    {
      "cell_type": "code",
      "source": [
        "# CSV dowloaded from 'ipeadata.gov.br'\n",
        "inflation = pd.read_csv('./IPCA.csv')\n",
        "\n",
        "inflation = inflation.rename(columns={ 'Inflação - IPCA - (% a.m.) - Instituto Brasileiro de Geografia e Estatística- Sistema Nacional de Índices de Preços ao Consumidor (IBGE/SNIPC) - PRECOS12_IPCAG12': 'interest'})\n",
        "inflation = pd.DataFrame(inflation)\n",
        "#dropting uncessary columns\n",
        "inflation = inflation.drop(['Unnamed: 2','Data'],axis = 1)\n",
        "inflation = inflation/100\n",
        "\n",
        "#creating the date column in datetime format:y\n",
        "inflation['date'] = pd.date_range('1979-12-01','2020-01-01', freq='M')\n",
        "\n",
        "#setting a date index:\n",
        "inflation = inflation.set_index('date')\n",
        "\n",
        "mdf['inflation'] = inflation['2008-12-01':'2019'].resample('M').sum()\n",
        "\n",
        "mdf['l_inflation'] = inflation['2007-12-01':'2018'].resample('M').sum()\n"
      ],
      "metadata": {
        "id": "P5FruD5xHByt"
      },
      "execution_count": null,
      "outputs": []
    },
    {
      "cell_type": "code",
      "source": [
        "# Creating Real Interest Variable\n",
        "\n",
        "mdf['real_interest'] = mdf['inflation']*(mdf['interest']+1)\n",
        "\n",
        "\n",
        "mdf['l_real_interest'] = mdf['l_inflation']*(mdf['l_interest']+1)\n"
      ],
      "metadata": {
        "id": "YcTud1zVHE8G"
      },
      "execution_count": null,
      "outputs": []
    },
    {
      "cell_type": "code",
      "source": [
        "mdf = mdf.fillna(0)"
      ],
      "metadata": {
        "id": "hnAxWdVEsrpr"
      },
      "execution_count": null,
      "outputs": []
    },
    {
      "cell_type": "code",
      "source": [
        "#regressing\n",
        "\n",
        "\n",
        "results1 = sm.OLS(mdf['offences'], mdf[['cons','dummy','gdp','unemployment','real_interest']]).fit()\n",
        "results2 = sm.OLS(mdf['offences'], mdf[['cons','dummy','t1','t2','gdp','unemployment','real_interest']]).fit()\n",
        "results3 = sm.OLS(mdf['offences'], mdf[['cons','dummy','t1','s1','c1','t2','s2','c2','gdp','unemployment','real_interest']]).fit()\n",
        "results4 = sm.OLS(mdf['offences'], mdf[['cons','dummy','t2','s2','c2','gdp','unemployment','real_interest']]).fit()\n",
        "results5 = sm.OLS(mdf['offences'], mdf[['cons','dummy','t1','t2','s2','q2','gdp','unemployment','real_interest']]).fit()\n",
        "results6 = sm.OLS(mdf['offences'], mdf[['cons','dummy','t1','t2','s2','f2','gdp','unemployment','real_interest']]).fit()\n",
        "model_list = [results1, results2,results3,results4,results5,results6]\n",
        "stargazer = Stargazer(model_list)\n",
        "stargazer.covariate_order(['cons','dummy','gdp','unemployment','real_interest'])\n",
        "HTML(stargazer.render_html())"
      ],
      "metadata": {
        "id": "NuW5mPjJMAC9"
      },
      "execution_count": null,
      "outputs": []
    },
    {
      "cell_type": "code",
      "source": [
        "# print(stargazer.render_latex())"
      ],
      "metadata": {
        "id": "DtfoMDb-c_2p"
      },
      "execution_count": null,
      "outputs": []
    },
    {
      "cell_type": "code",
      "source": [
        "\n",
        "fig = plt.figure(figsize=(16,9))\n",
        "\n",
        "result_list = [results1,results2,results3,results4,results5,results6]\n",
        "theta = intervention\n",
        "\n",
        "for i in range(len(result_list)):\n",
        "  plt.subplot(3,2,i+1)\n",
        "  iv_l1 = result_list[i].get_prediction().summary_frame()[\"obs_ci_lower\"]\n",
        "  iv_u1 = result_list[i].get_prediction().summary_frame()[\"obs_ci_upper\"]\n",
        "  plt.plot( mdf['t1'], mdf['offences'], '.',lw=1)\n",
        "  plt.plot(mdf['t1'],result_list[i].fittedvalues, 'k-', lw=0.5)\n",
        "  plt.plot(mdf['t1'], iv_u1, color='red', lw=0.2)\n",
        "  plt.plot( mdf['t1'],iv_l1, color='red', lw=0.2)\n",
        "  plt.axvline(theta, color='black', lw=1, alpha=0.5)\n",
        "  plt.fill_between( mdf['t1'],iv_u1,iv_l1, color='red', alpha=0.06)\n",
        "  plt.xticks(np.arange(0, len(mdf) +1 , step=len(mdf)/9), np.arange(2010,2020,1))  # Set label locations.\n",
        "  plt.legend(('data','OLS','95% Significance'),loc=2)\n",
        "\n",
        "plt.show()\n",
        "\n",
        "#fig.savefig('emp3.pdf')"
      ],
      "metadata": {
        "id": "pxwkh4tWQRu6"
      },
      "execution_count": null,
      "outputs": []
    },
    {
      "cell_type": "code",
      "source": [
        "\n",
        "from scipy import stats\n",
        "\n",
        "results_list = []\n",
        "\n",
        "# Assuming you have a list of OLS models in model_list\n",
        "for model in model_list:\n",
        "\n",
        "    # Get fitted values\n",
        "    fitted_values = model.fittedvalues\n",
        "\n",
        "    # Extract fitted values\n",
        "    last_fitted_value = fitted_values.iloc[-1]\n",
        "    pre_policy_fitted_value = fitted_values.iloc[intervention - 1]\n",
        "\n",
        "    # Difference between pre-policy and last fitted values (not a Z-test)\n",
        "    difference = last_fitted_value - pre_policy_fitted_value\n",
        "\n",
        "    # Goodness-of-fit measures\n",
        "    aic = model.aic\n",
        "    bic = model.bic\n",
        "    log_likelihood = model.llf\n",
        "\n",
        "    # Store the results along with the fitted values and goodness-of-fit measures\n",
        "    results_list.append((pre_policy_fitted_value, last_fitted_value, difference, aic, bic, log_likelihood))\n",
        "\n",
        "# Display the results\n",
        "for i, (pre_policy_value, last_value, difference, aic, bic, log_likelihood) in enumerate(results_list, start=1):\n",
        "    print(f'Model {i}: Pre-policy fitted value = {pre_policy_value}, Last fitted value = {last_value}, Difference = {difference}, AIC = {aic}, BIC = {bic}, Log-Likelihood = {log_likelihood}')\n"
      ],
      "metadata": {
        "id": "wsz772ZXeWHX"
      },
      "execution_count": null,
      "outputs": []
    },
    {
      "cell_type": "code",
      "source": [
        "\n",
        "# Assuming 'model_list' and 'intervention' are defined\n",
        "results_list = []\n",
        "\n",
        "for model in model_list:\n",
        "    # Get fitted values\n",
        "    fitted_values = model.fittedvalues\n",
        "\n",
        "    # Get standard errors of the fitted values\n",
        "    predictions = model.get_prediction()\n",
        "    predict_std_err = predictions.se_mean\n",
        "\n",
        "    # Extract fitted values and their standard errors\n",
        "    last_fitted_value = fitted_values.iloc[-1]\n",
        "    pre_policy_fitted_value = fitted_values.iloc[intervention - 1]\n",
        "    last_se = predict_std_err[-1]\n",
        "    pre_policy_se = predict_std_err[intervention - 1]\n",
        "\n",
        "    # Calculate the standard error of the difference\n",
        "    diff_se = np.sqrt(last_se**2 + pre_policy_se**2)\n",
        "\n",
        "    # Calculate the observed difference\n",
        "    observed_diff = last_fitted_value - pre_policy_fitted_value\n",
        "\n",
        "    # t-test for the difference\n",
        "    t_stat = observed_diff / diff_se\n",
        "    df = len(fitted_values) - len(model.params)  # degrees of freedom\n",
        "    p_value = 2 * stats.t.sf(np.abs(t_stat), df)\n",
        "\n",
        "    # Goodness-of-fit measures\n",
        "    aic = model.aic\n",
        "    bic = model.bic\n",
        "    log_likelihood = model.llf\n",
        "\n",
        "    # Store results\n",
        "    results_list.append([pre_policy_fitted_value, last_fitted_value, observed_diff, p_value, aic, bic, log_likelihood])\n",
        "\n",
        "# Create DataFrame\n",
        "results_df = pd.DataFrame(results_list, columns=['Pre-policy Value', 'Last Value', 'Difference', 'P-value', 'AIC', 'BIC', 'Log-Likelihood'])\n",
        "\n",
        "# Add Model numbers\n",
        "results_df.index = [f'Model {i+1}' for i in range(len(results_df))]\n",
        "\n",
        "# Display the DataFrame\n",
        "print(results_df)\n"
      ],
      "metadata": {
        "id": "gF6Laq8oaeTo"
      },
      "execution_count": null,
      "outputs": []
    },
    {
      "cell_type": "code",
      "source": [
        "#\n",
        "results1 = sm.Poisson(mdf['offences'], mdf[['cons','dummy','gdp','unemployment','real_interest']]).fit()\n",
        "results2 = sm.Poisson(mdf['offences'], mdf[['cons','dummy','t1','gdp','unemployment','real_interest']]).fit()\n",
        "results3 = sm.Poisson(mdf['offences'], mdf[['cons','dummy','t2','gdp','unemployment','real_interest']]).fit()\n",
        "results4 = sm.Poisson(mdf['offences'], mdf[['cons','dummy','t1','t2','gdp','unemployment','real_interest']]).fit()\n",
        "results5 = sm.Poisson(mdf['offences'], mdf[['cons','dummy','t2','s2','gdp','unemployment','real_interest']]).fit()\n",
        "results6 = sm.Poisson(mdf['offences'], mdf[['cons','dummy','t1','s1','t2','s2','gdp','unemployment','real_interest']]).fit()\n",
        "model_list = [results1, results2,results3,results4,results5,results6]\n",
        "stargazer = Stargazer(model_list)\n",
        "stargazer.covariate_order(['cons','dummy','unemployment','real_interest','gdp'])\n",
        "HTML(stargazer.render_html())"
      ],
      "metadata": {
        "id": "33S7vspcSfWl"
      },
      "execution_count": null,
      "outputs": []
    },
    {
      "cell_type": "code",
      "source": [
        "#print(stargazer.render_latex())"
      ],
      "metadata": {
        "id": "tyA6DqDuDH1M"
      },
      "execution_count": null,
      "outputs": []
    },
    {
      "cell_type": "code",
      "source": [
        "\n",
        "fig = plt.figure(figsize=(16,9))\n",
        "\n",
        "result_list = [results1,results2,results3,results4,results5,results6]\n",
        "theta = intervention\n",
        "\n",
        "for i in range(len(result_list)):\n",
        "  plt.subplot(3,2,i+1)\n",
        "  iv_l1 = np.exp(result_list[i].fittedvalues.values - 1.96*((result_list[i].fittedvalues.values/len(result_list[i].fittedvalues.values))**(1/2)))\n",
        "  iv_u1 = np.exp(result_list[i].fittedvalues.values + 1.96*((result_list[i].fittedvalues.values/len(result_list[i].fittedvalues.values))**(1/2)))\n",
        "  plt.plot( mdf['t1'], mdf['offences'], '.',lw=1)\n",
        "  plt.plot(mdf['t1'],np.exp(result_list[i].fittedvalues), 'k-', lw=0.5)\n",
        "  plt.plot(mdf['t1'], iv_u1, color='red', lw=0.2)\n",
        "  plt.plot( mdf['t1'],iv_l1, color='red', lw=0.2)\n",
        "  plt.axvline(theta, color='black', lw=1, alpha=0.5)\n",
        "  plt.fill_between( mdf['t1'],iv_u1,iv_l1, color='red', alpha=0.06)\n",
        "  plt.xticks(np.arange(0, len(mdf) +1 , step=len(mdf)/9), np.arange(2010,2020,1))  # Set label locations.\n",
        "  plt.savefig('reg_2.pdf')\n",
        "  plt.legend(('data','Predicted Mean','95% Significance Interval'),loc='best')\n",
        "\n",
        "plt.show()"
      ],
      "metadata": {
        "id": "E-ZJ4iTTz0-F"
      },
      "execution_count": null,
      "outputs": []
    },
    {
      "cell_type": "code",
      "source": [
        "from scipy import stats"
      ],
      "metadata": {
        "id": "AcUS9OgUVv1n"
      },
      "execution_count": null,
      "outputs": []
    },
    {
      "cell_type": "code",
      "source": [
        "# Get fitted values from each model\n",
        "fitted_values1 = results1.fittedvalues\n",
        "# ... repeat for other models ...\n",
        "\n",
        "# Define the index of the policy intervention\n",
        "policy_intervention_index = intervention\n",
        "\n",
        "# Extract fitted values\n",
        "last_fitted_value = fitted_values1.iloc[-1]  # replace 'fitted_values1' with the appropriate model's fitted values\n",
        "pre_policy_fitted_value = fitted_values1.iloc[policy_intervention_index - 1]  # -1 because we want the value just before the intervention\n",
        "\n",
        "# Statistical comparison\n",
        "# Here we'll perform a z-test for comparing two Poisson rates\n",
        "rate1 = pre_policy_fitted_value\n",
        "rate2 = last_fitted_value\n",
        "n1 = n2 = 1  # single observation for each rate\n",
        "\n",
        "# Z-test formula for two Poisson rates\n",
        "z = (rate1 - rate2) / ((rate1/n1 + rate2/n2)**0.5)\n",
        "p_value = stats.norm.sf(abs(z)) * 2  # two-tailed p-value\n",
        "\n",
        "print(f'Pre-policy fitted value: {rate1}, Last fitted value: {rate2}')\n",
        "print(f'Z-statistic: {z}, P-value: {p_value}')"
      ],
      "metadata": {
        "id": "b_CL5An_UD89"
      },
      "execution_count": null,
      "outputs": []
    },
    {
      "cell_type": "code",
      "source": [
        "import statsmodels.api as sm\n",
        "import pandas as pd\n",
        "from scipy import stats\n",
        "\n",
        "\n",
        "results_list = []\n",
        "# Loop through each model formula\n",
        "for model in model_list:\n",
        "\n",
        "    # Get fitted values\n",
        "    fitted_values = model.fittedvalues\n",
        "\n",
        "    # Extract fitted values\n",
        "    last_fitted_value = fitted_values.iloc[-1]\n",
        "    pre_policy_fitted_value = fitted_values.iloc[policy_intervention_index ]\n",
        "\n",
        "    # Statistical comparison\n",
        "    rate1 = pre_policy_fitted_value\n",
        "    rate2 = last_fitted_value\n",
        "    n1 = n2 = 1  # single observation for each rate\n",
        "\n",
        "    # Z-test formula for two Poisson rates\n",
        "    z = (rate1 - rate2) / ((rate1/n1 + rate2/n2)**0.5)\n",
        "    p_value = stats.norm.sf(abs(z)) * 2  # two-tailed p-value\n",
        "\n",
        "    # Goodness-of-fit measures\n",
        "    aic = model.aic\n",
        "    bic = model.bic\n",
        "    log_likelihood = model.llf\n",
        "\n",
        "    # Store the results along with the fitted values and goodness-of-fit measures\n",
        "    results_list.append((rate1, rate2, z, p_value, aic, bic, log_likelihood))\n",
        "\n",
        "# Display the results\n",
        "for i, (rate1, rate2, z, p, aic, bic, log_likelihood) in enumerate(results_list, start=1):\n",
        "    print(f'Model {i}: Pre-policy fitted value = {rate1}, Last fitted value = {rate2}, Z-statistic = {z}, P-value = {p}, AIC = {aic}, BIC = {bic}, Log-Likelihood = {log_likelihood}')\n"
      ],
      "metadata": {
        "id": "oqhxfksHUD_2"
      },
      "execution_count": null,
      "outputs": []
    },
    {
      "cell_type": "code",
      "source": [
        "import numpy as np\n",
        "import statsmodels.api as sm\n",
        "\n",
        "# Assuming 'mdf' is your DataFrame and is already loaded\n",
        "\n",
        "for model in model_list:\n",
        "\n",
        "    # Get fitted values\n",
        "    fitted_values = model.fittedvalues\n",
        "\n",
        "    # Define the index of the policy intervention\n",
        "    policy_intervention_index = intervention\n",
        "\n",
        "    # Extract the pre-policy and last fitted values\n",
        "    pre_policy_value = fitted_values.iloc[policy_intervention_index - 1]\n",
        "    last_value = fitted_values.iloc[-1]\n",
        "\n",
        "    # Bootstrapping\n",
        "    n_bootstraps = 100000  # Number of bootstrap samples\n",
        "    bootstrap_differences = []\n",
        "\n",
        "    for _ in range(n_bootstraps):\n",
        "        # Bootstrap sample\n",
        "        sample = fitted_values.sample(frac=1, replace=True)\n",
        "\n",
        "        # Compute the difference\n",
        "        pre_policy_sample_value = sample.iloc[policy_intervention_index - 1]\n",
        "        last_sample_value = sample.iloc[-1]\n",
        "        difference = last_sample_value - pre_policy_sample_value\n",
        "\n",
        "        bootstrap_differences.append(difference)\n",
        "\n",
        "    # Compute the proportion of differences that are 0 or more (one-tailed test)\n",
        "    p_value = np.mean(np.array(bootstrap_differences) >= 0)\n",
        "\n",
        "    print(f'Mean bootstrapped difference: {np.mean(bootstrap_differences)}')\n",
        "    print(f'P-value: {p_value}')\n"
      ],
      "metadata": {
        "id": "h39NLYKJUECh"
      },
      "execution_count": null,
      "outputs": []
    },
    {
      "cell_type": "code",
      "source": [
        "#  Corruption\n",
        "results1 = sm.NegativeBinomial(mdf['offences'], mdf[['cons','dummy','gdp','unemployment','real_interest']]).fit()\n",
        "results2 = sm.NegativeBinomial(mdf['offences'], mdf[['cons','dummy','t2','gdp','unemployment','real_interest']]).fit()\n",
        "results3 = sm.NegativeBinomial(mdf['offences'], mdf[['cons','dummy','t1','t2','gdp','unemployment','real_interest']]).fit()\n",
        "results4 = sm.NegativeBinomial(mdf['offences'], mdf[['cons','dummy','t2','s2','gdp','unemployment','real_interest']]).fit()\n",
        "results5 = sm.NegativeBinomial(mdf['offences'], mdf[['cons','dummy','t1','t2','s2','gdp','unemployment','real_interest']]).fit()\n",
        "stargazer = Stargazer([results1, results2,results3,results4,results5])\n",
        "stargazer.covariate_order(['cons','dummy','t2','s2','unemployment','real_interest','gdp'])\n",
        "HTML(stargazer.render_html())"
      ],
      "metadata": {
        "id": "JuTnbDNKLEEf"
      },
      "execution_count": null,
      "outputs": []
    },
    {
      "cell_type": "code",
      "source": [
        "\n",
        "fig = plt.figure(figsize=(16,9))\n",
        "\n",
        "result_list = [results1,results2,results3,results4,results5]\n",
        "theta = intervention\n",
        "\n",
        "for i in range(len(result_list)):\n",
        "  plt.subplot(3,2,i+1)\n",
        "  iv_l1 = np.exp(result_list[i].fittedvalues.values - 1.96*((result_list[i].fittedvalues.values/len(result_list[i].fittedvalues.values))**(1/2)))\n",
        "  iv_u1 = np.exp(result_list[i].fittedvalues.values + 1.96*((result_list[i].fittedvalues.values/len(result_list[i].fittedvalues.values))**(1/2)))\n",
        "  plt.plot( mdf['t1'], mdf['offences'], '.',lw=1)\n",
        "  plt.plot(mdf['t1'],np.exp(result_list[i].fittedvalues), 'k-', lw=0.5)\n",
        "  plt.plot(mdf['t1'], iv_u1, color='red', lw=0.2)\n",
        "  plt.plot( mdf['t1'],iv_l1, color='red', lw=0.2)\n",
        "  plt.axvline(theta, color='black', lw=1, alpha=0.5)\n",
        "  plt.fill_between( mdf['t1'],iv_u1,iv_l1, color='red', alpha=0.06)\n",
        "  #plt.legend(('data','OLS','95% Significance'),loc=2)\n",
        "\n",
        "plt.show()"
      ],
      "metadata": {
        "id": "BPFJKJXPLELe"
      },
      "execution_count": null,
      "outputs": []
    },
    {
      "cell_type": "markdown",
      "source": [
        "### Robustness --> Regressing with Lagged Variables"
      ],
      "metadata": {
        "id": "OTipKoQ4JYRz"
      }
    },
    {
      "cell_type": "code",
      "source": [
        "#\n",
        "results1 = sm.OLS(mdf['offences'], mdf[['cons','dummy','l_gdp','l_unemployment','l_real_interest']]).fit()\n",
        "results2 = sm.OLS(mdf['offences'], mdf[['cons','dummy','t1','t2','l_gdp','l_unemployment','l_real_interest']]).fit()\n",
        "results3 = sm.OLS(mdf['offences'], mdf[['cons','dummy','t1','s1','c1','t2','s2','c2','l_gdp','l_unemployment','l_real_interest']]).fit()\n",
        "results4 = sm.OLS(mdf['offences'], mdf[['cons','dummy','t2','s2','c2','l_gdp','l_unemployment','l_real_interest']]).fit()\n",
        "results5 = sm.OLS(mdf['offences'], mdf[['cons','dummy','t1','t2','s2','q2','l_gdp','l_unemployment','l_real_interest']]).fit()\n",
        "results6 = sm.OLS(mdf['offences'], mdf[['cons','dummy','t1','t2','s2','f2','l_gdp','l_unemployment','l_real_interest']]).fit()\n",
        "model_list = [results1, results2,results3,results4,results5,results6]\n",
        "stargazer = Stargazer(model_list)\n",
        "stargazer.covariate_order(['cons','dummy','l_unemployment','l_real_interest','l_gdp'])\n",
        "HTML(stargazer.render_html())"
      ],
      "metadata": {
        "id": "nvdaj7JEUseM"
      },
      "execution_count": null,
      "outputs": []
    },
    {
      "cell_type": "code",
      "source": [
        "\n",
        "# Assuming 'model_list' and 'intervention' are defined\n",
        "results_list = []\n",
        "\n",
        "for model in model_list:\n",
        "    # Get fitted values\n",
        "    fitted_values = model.fittedvalues\n",
        "\n",
        "    # Get standard errors of the fitted values\n",
        "    predictions = model.get_prediction()\n",
        "    predict_std_err = predictions.se_mean\n",
        "\n",
        "    # Extract fitted values and their standard errors\n",
        "    last_fitted_value = fitted_values.iloc[-1]\n",
        "    pre_policy_fitted_value = fitted_values.iloc[intervention - 1]\n",
        "    last_se = predict_std_err[-1]\n",
        "    pre_policy_se = predict_std_err[intervention - 1]\n",
        "\n",
        "    # Calculate the standard error of the difference\n",
        "    diff_se = np.sqrt(last_se**2 + pre_policy_se**2)\n",
        "\n",
        "    # Calculate the observed difference\n",
        "    observed_diff = last_fitted_value - pre_policy_fitted_value\n",
        "\n",
        "    # t-test for the difference\n",
        "    t_stat = observed_diff / diff_se\n",
        "    df = len(fitted_values) - len(model.params)  # degrees of freedom\n",
        "    p_value = 2 * stats.t.sf(np.abs(t_stat), df)\n",
        "\n",
        "    # Goodness-of-fit measures\n",
        "    aic = model.aic\n",
        "    bic = model.bic\n",
        "    log_likelihood = model.llf\n",
        "\n",
        "    # Store results\n",
        "    results_list.append([pre_policy_fitted_value, last_fitted_value, observed_diff, p_value, aic, bic, log_likelihood])\n",
        "\n",
        "# Create DataFrame\n",
        "results_df = pd.DataFrame(results_list, columns=['Pre-policy Value', 'Last Value', 'Difference', 'P-value', 'AIC', 'BIC', 'Log-Likelihood'])\n",
        "\n",
        "# Add Model numbers\n",
        "results_df.index = [f'Model {i+1}' for i in range(len(results_df))]\n",
        "\n",
        "# Display the DataFrame\n",
        "print(results_df)\n"
      ],
      "metadata": {
        "id": "7xCiZFJ6VPdZ"
      },
      "execution_count": null,
      "outputs": []
    },
    {
      "cell_type": "code",
      "source": [
        "#\n",
        "results1 = sm.Poisson(mdf['offences'], mdf[['cons','dummy','l_gdp','l_unemployment','l_real_interest']]).fit()\n",
        "results2 = sm.Poisson(mdf['offences'], mdf[['cons','dummy','t1','l_gdp','l_unemployment','l_real_interest']]).fit()\n",
        "results3 = sm.Poisson(mdf['offences'], mdf[['cons','dummy','t2','l_gdp','l_unemployment','l_real_interest']]).fit()\n",
        "results4 = sm.Poisson(mdf['offences'], mdf[['cons','dummy','t1','t2','l_gdp','l_unemployment','l_real_interest']]).fit()\n",
        "results5 = sm.Poisson(mdf['offences'], mdf[['cons','dummy','t2','s2','l_gdp','l_unemployment','l_real_interest']]).fit()\n",
        "results6 = sm.Poisson(mdf['offences'], mdf[['cons','dummy','t1','s1','t2','s2','l_gdp','l_unemployment','l_real_interest']]).fit()\n",
        "stargazer = Stargazer(model_list)\n",
        "stargazer.covariate_order(['cons','dummy','l_unemployment','l_real_interest','l_gdp'])\n",
        "HTML(stargazer.render_html())"
      ],
      "metadata": {
        "id": "L1KDKRmZJdi8"
      },
      "execution_count": null,
      "outputs": []
    },
    {
      "cell_type": "code",
      "source": [],
      "metadata": {
        "id": "UInh0fTiRlOI"
      },
      "execution_count": null,
      "outputs": []
    },
    {
      "cell_type": "markdown",
      "source": [
        "## LOWESS - Localy weighted scatterplot smoothing\n",
        "\n",
        "We fit a curve to the univariate corruption detection data."
      ],
      "metadata": {
        "id": "tSVs3IFrDEf7"
      }
    },
    {
      "cell_type": "code",
      "source": [
        "import pylab\n",
        "import seaborn as sns\n",
        "\n",
        "\n",
        "pylab.rc(\"figure\", figsize=(16, 8))\n",
        "pylab.rc(\"font\", size=14)\n",
        "\n"
      ],
      "metadata": {
        "id": "7hXLNCCQ1U80"
      },
      "execution_count": null,
      "outputs": []
    },
    {
      "cell_type": "code",
      "source": [
        "smoothed = sm.nonparametric.lowess(exog=mdf['t1'], endog= mdf['offences'], frac=0.2)"
      ],
      "metadata": {
        "id": "MIvry8btIQMB"
      },
      "execution_count": null,
      "outputs": []
    },
    {
      "cell_type": "code",
      "source": [
        "# Plot the fit line\n",
        "fig, ax = pylab.subplots()\n",
        "\n",
        "ax.scatter(mdf['t1'], mdf['offences'])\n",
        "ax.plot(smoothed[:, 0], smoothed[:, 1], c=\"k\")\n",
        "pylab.autoscale(enable=True, axis=\"x\", tight=True)"
      ],
      "metadata": {
        "id": "wndWynv4H6Qr"
      },
      "execution_count": null,
      "outputs": []
    },
    {
      "cell_type": "code",
      "source": [
        "# Now create a bootstrap confidence interval around the a LOWESS fit\n",
        "\n",
        "\n",
        "def lowess_with_confidence_bounds(\n",
        "    x, y, eval_x, N=200, conf_interval=0.95, lowess_kw=None\n",
        "):\n",
        "    \"\"\"\n",
        "    Perform Lowess regression and determine a confidence interval by bootstrap resampling\n",
        "    \"\"\"\n",
        "    # Lowess smoothing\n",
        "    smoothed = sm.nonparametric.lowess(exog=x, endog=y, xvals=eval_x, **lowess_kw)\n",
        "\n",
        "    # Perform bootstrap resamplings of the data\n",
        "    # and  evaluate the smoothing at a fixed set of points\n",
        "    smoothed_values = np.empty((N, len(eval_x)))\n",
        "    for i in range(N):\n",
        "        sample = np.random.choice(len(x), len(x), replace=True)\n",
        "        sampled_x = x[sample]\n",
        "        sampled_y = y[sample]\n",
        "\n",
        "        smoothed_values[i] = sm.nonparametric.lowess(\n",
        "            exog=sampled_x, endog=sampled_y, xvals=eval_x, **lowess_kw\n",
        "        )\n",
        "\n",
        "    # Get the confidence interval\n",
        "    sorted_values = np.sort(smoothed_values, axis=0)\n",
        "    bound = int(N * (1 - conf_interval) / 2)\n",
        "    bottom = sorted_values[bound - 1]\n",
        "    top = sorted_values[-bound]\n",
        "\n",
        "    return smoothed, bottom, top\n",
        "\n",
        "\n"
      ],
      "metadata": {
        "id": "KLeQ6HKpH6UG"
      },
      "execution_count": null,
      "outputs": []
    },
    {
      "cell_type": "code",
      "source": [
        "# Compute the 95% confidence interval\n",
        "eval_x = np.linspace(0, 107, 31)\n",
        "smoothed, bottom, top = lowess_with_confidence_bounds(\n",
        "    mdf['t1'], mdf['offences'], eval_x, lowess_kw={\"frac\": 0.25}\n",
        ")"
      ],
      "metadata": {
        "id": "_tpYe0tmlxkB"
      },
      "execution_count": null,
      "outputs": []
    },
    {
      "cell_type": "code",
      "source": [
        "# Plot the confidence interval and fit\n",
        "fig, ax = pylab.subplots()\n",
        "ax.scatter(mdf['t1'], mdf['offences'])\n",
        "ax.plot(eval_x, smoothed, c=\"k\")\n",
        "ax.fill_between(eval_x, bottom, top, alpha=0.06, color=\"r\")\n",
        "ax.axvline(theta, color='red', lw=1, alpha=0.5)\n",
        "plt.xticks(np.arange(0, len(mdf) +1 , step=len(mdf)/9), np.arange(2010,2020,1))  # Set label locations.\n",
        "plt.legend(('Lowess Predicted Mean','Policy Intervention','Data Points','95% Sigificance Interval'),loc=2)\n",
        "pylab.autoscale(enable=True, axis=\"x\", tight=True)\n",
        "#plt.savefig('lowess.pdf')"
      ],
      "metadata": {
        "id": "IflTaQnPH6W2"
      },
      "execution_count": null,
      "outputs": []
    },
    {
      "cell_type": "code",
      "source": [
        "# predictions\n",
        "smoothed"
      ],
      "metadata": {
        "id": "c28IjnHIKzqr"
      },
      "execution_count": null,
      "outputs": []
    },
    {
      "cell_type": "code",
      "source": [
        "# Calculating the percntage variation from the end of the data in relation to the pre-policy period\n",
        "\n",
        "mpv = np.array([33.74161096, 34.46699979, 35.0222235 , 35.4667589 , 35.61198674,\n",
        "       35.29081795, 34.64522045, 34.24685881, 34.25711556, 33.98970698,\n",
        "       34.41339042, 35.4678435]).mean()\n",
        "\n",
        "(mpv - 23.57)/mpv"
      ],
      "metadata": {
        "id": "PhRm46oeLTnT"
      },
      "execution_count": null,
      "outputs": []
    },
    {
      "cell_type": "code",
      "source": [
        "# The botton value of the imediete pre-policy shock\n",
        "bottom[11]"
      ],
      "metadata": {
        "id": "ZSH26LFaD62R"
      },
      "execution_count": null,
      "outputs": []
    },
    {
      "cell_type": "code",
      "source": [
        "# Upper bound of the last period\n",
        "top[-1]"
      ],
      "metadata": {
        "id": "GTyqKu45EYeC"
      },
      "execution_count": null,
      "outputs": []
    },
    {
      "cell_type": "markdown",
      "source": [
        "## Daily Data and Regressions"
      ],
      "metadata": {
        "id": "pyB88imDDk2y"
      }
    },
    {
      "cell_type": "code",
      "source": [
        "## Daily data\n",
        "\n",
        "ddf = df_corruption['2011':'2019'].resample('D').count()\n",
        "\n",
        "#create a constant\n",
        "\n",
        "ddf['cons'] = 1\n",
        "\n",
        "\n",
        "# creat a dummy with 0 before feb 2014 (x days) and 1 after # Change this to better fit###\n",
        "d_intervention = 504\n",
        "\n",
        "dummy = []\n",
        "for i in (range(0,len(ddf))):\n",
        "    if i <intervention:\n",
        "        dummy.append(0)\n",
        "    else:\n",
        "        dummy.append(1)\n",
        "\n",
        "ddf['dummy'] = dummy\n",
        "\n",
        "# creat a list of 1 to 13#\n",
        "t1 = list(range(0,len(ddf)))\n",
        "\n",
        "ddf['t1'] = t1\n",
        "\n",
        "# creat a polynom root after 2013#\n",
        "t2= []\n",
        "for i in (range(0,len(ddf))):\n",
        "    if i < intervention:\n",
        "        t2.append(0)\n",
        "    else:\n",
        "        t2.append(i-intervention)\n",
        "\n",
        "ddf['t2'] = t2\n",
        "\n",
        "#Creating other orther polynomials\n",
        "\n",
        "ddf['s1'] = np.power(t1,2)\n",
        "ddf['c1'] = np.power(t1,3)\n",
        "ddf['s2'] = np.power(t2,2)\n",
        "ddf['c2'] = np.power(t2,3)\n",
        "ddf['q1'] = np.power(t1,4)\n",
        "ddf['f1'] = np.power(t1,5)\n",
        "ddf['q2'] = np.power(t2,4)\n",
        "ddf['f2'] = np.power(t2,5)\n",
        "\n"
      ],
      "metadata": {
        "id": "xV3-MR0mKCc7"
      },
      "execution_count": null,
      "outputs": []
    },
    {
      "cell_type": "code",
      "source": [
        "# Creating the Daily data for the other exogenous variables\n",
        "\n",
        "\n",
        "\n",
        "ddf['gdp'] = tgdp['2008-12-01':'2019'].resample('D', closed = 'left').bfill()\n",
        "\n",
        "ddf['gdp'] = ddf['gdp'].fillna( 'bfill')\n",
        "\n",
        "ddf['unemployment'] = unemployment['2009':'2020'].resample('D').sum()\n",
        "\n",
        "ddf['unemployment'] = ddf['unemployment'].fillna( 'bfill')\n",
        "\n",
        "ddf['inflation'] = inflation['2008-12-01':'2019'].resample('D').sum()\n",
        "\n",
        "ddf['inflation'] = ddf['inflation'].fillna( 'bfill')\n",
        "\n",
        "ddf['interest'] = interest['2009':'2020'].resample('D').sum()\n",
        "\n",
        "ddf['interest'] = ddf['interest'].fillna( 'bfill')\n",
        "\n",
        "ddf['real_interest'] = ddf['inflation']*(ddf['interest']+1)\n"
      ],
      "metadata": {
        "id": "vLFVzyYOKiEC"
      },
      "execution_count": null,
      "outputs": []
    },
    {
      "cell_type": "code",
      "source": [
        "#  Corruption\n",
        "results1 = sm.OLS(ddf['offences'], ddf[['cons','dummy']]).fit()\n",
        "results2 = sm.OLS(ddf['offences'], ddf[['cons','dummy','t2']]).fit()\n",
        "results3 = sm.OLS(ddf['offences'], ddf[['cons','dummy','t1','t2']]).fit()\n",
        "results4 = sm.OLS(ddf['offences'], ddf[['cons','dummy','t2','s2']]).fit()\n",
        "results5 = sm.OLS(ddf['offences'], ddf[['cons','dummy','t2','s2','c2','q2']]).fit()\n",
        "results6 = sm.OLS(ddf['offences'], ddf[['cons','dummy','t2','s2','c2','q2','f2']]).fit()\n",
        "results7 = sm.OLS(ddf['offences'], ddf[['cons','dummy','t2','s2','gdp','unemployment','real_interest']]).fit()\n",
        "results8 = sm.OLS(ddf['offences'], ddf[['cons','dummy','t2','s2','c2','gdp','unemployment','real_interest']]).fit()\n",
        "results9 = sm.OLS(ddf['offences'], ddf[['cons','dummy','t2','s2','c2','q2','gdp','unemployment','real_interest']]).fit()\n",
        "results10 = sm.OLS(ddf['offences'], ddf[['cons','dummy','t2','s2','c2','q2','f2','gdp','unemployment','real_interest']]).fit()\n",
        "results11 = sm.OLS(ddf['offences'], ddf[['cons','dummy','t2','s2','c2','q2','gdp','unemployment','real_interest']]).fit()\n",
        "results12 = sm.OLS(ddf['offences'], ddf[['cons','dummy','t2','s2','c2','q2','f2','gdp','unemployment','real_interest']]).fit()\n",
        "model_list = [results1, results2,results3,results4,results5,results6,results7, results8,results9,results10,results11,results12]\n",
        "stargazer = Stargazer(model_list)\n",
        "stargazer.covariate_order(['cons','dummy','t1','t2','s2','c2','q2','f2','gdp','unemployment','real_interest'])\n",
        "HTML(stargazer.render_html())"
      ],
      "metadata": {
        "id": "UodE40xINFAD"
      },
      "execution_count": null,
      "outputs": []
    },
    {
      "cell_type": "code",
      "source": [
        "\n",
        "# Assuming 'model_list' and 'intervention' are defined\n",
        "results_list = []\n",
        "\n",
        "for model in model_list:\n",
        "    # Get fitted values\n",
        "    fitted_values = model.fittedvalues\n",
        "\n",
        "    # Get standard errors of the fitted values\n",
        "    predictions = model.get_prediction()\n",
        "    predict_std_err = predictions.se_mean\n",
        "\n",
        "    # Extract fitted values and their standard errors\n",
        "    last_fitted_value = fitted_values.iloc[-1]\n",
        "    pre_policy_fitted_value = fitted_values.iloc[intervention - 1]\n",
        "    last_se = predict_std_err[-1]\n",
        "    pre_policy_se = predict_std_err[intervention - 1]\n",
        "\n",
        "    # Calculate the standard error of the difference\n",
        "    diff_se = np.sqrt(last_se**2 + pre_policy_se**2)\n",
        "\n",
        "    # Calculate the observed difference\n",
        "    observed_diff = last_fitted_value - pre_policy_fitted_value\n",
        "\n",
        "    # t-test for the difference\n",
        "    t_stat = observed_diff / diff_se\n",
        "    df = len(fitted_values) - len(model.params)  # degrees of freedom\n",
        "    p_value = 2 * stats.t.sf(np.abs(t_stat), df)\n",
        "\n",
        "    # Goodness-of-fit measures\n",
        "    aic = model.aic\n",
        "    bic = model.bic\n",
        "    log_likelihood = model.llf\n",
        "\n",
        "    # Store results\n",
        "    results_list.append([pre_policy_fitted_value, last_fitted_value, observed_diff, p_value, aic, bic, log_likelihood])\n",
        "\n",
        "# Create DataFrame\n",
        "results_df = pd.DataFrame(results_list, columns=['Pre-policy Value', 'Last Value', 'Difference', 'P-value', 'AIC', 'BIC', 'Log-Likelihood'])\n",
        "\n",
        "# Add Model numbers\n",
        "results_df.index = [f'Model {i+1}' for i in range(len(results_df))]\n",
        "\n",
        "# Display the DataFrame\n",
        "print(results_df)\n"
      ],
      "metadata": {
        "id": "ZkK5rLZwWDiy"
      },
      "execution_count": null,
      "outputs": []
    },
    {
      "cell_type": "code",
      "source": [
        "\n",
        "fig = plt.figure(figsize=(16,18))\n",
        "\n",
        "result_list = [results1, results2,results3,results4,results5,results6,results7, results8,results9,results10,results11,results12]\n",
        "theta = d_intervention\n",
        "\n",
        "for i in range(len(result_list)):\n",
        "  plt.subplot(6,2,i+1)\n",
        "  iv_l1 = result_list[i].get_prediction().summary_frame()[\"obs_ci_lower\"]\n",
        "  iv_u1 = result_list[i].get_prediction().summary_frame()[\"obs_ci_upper\"]\n",
        "  plt.plot( ddf['t1'], ddf['offences'], '.',lw=.01)\n",
        "  plt.plot(ddf['t1'],result_list[i].fittedvalues, 'k-', lw=0.5)\n",
        "  plt.plot(ddf['t1'], iv_u1, color='red', lw=0.2)\n",
        "  plt.plot( ddf['t1'],iv_l1, color='red', lw=0.2)\n",
        "  plt.axvline(theta, color='black', lw=1, alpha=0.5)\n",
        "  plt.fill_between( ddf['t1'],iv_u1,iv_l1, color='red', alpha=0.06)\n",
        "  plt.ylim((-2.5, 5))\n",
        "  #plt.legend(('data','OLS','95% Significance'),loc=2)\n",
        "\n",
        "plt.show()"
      ],
      "metadata": {
        "id": "Z88-g9SfjAju"
      },
      "execution_count": null,
      "outputs": []
    },
    {
      "cell_type": "code",
      "source": [
        "#  Corruption\n",
        "results1 = sm.Poisson(ddf['offences'], ddf[['cons','dummy']]).fit()\n",
        "results2 = sm.Poisson(ddf['offences'], ddf[['cons','dummy','t2']]).fit()\n",
        "results3 = sm.Poisson(ddf['offences'], ddf[['cons','dummy','t1','t2']]).fit()\n",
        "results4 = sm.Poisson(ddf['offences'], ddf[['cons','dummy','gdp','unemployment','real_interest']]).fit()\n",
        "results5 = sm.Poisson(ddf['offences'], ddf[['cons','dummy','t2','gdp','unemployment','real_interest']]).fit()\n",
        "results6 = sm.Poisson(ddf['offences'], ddf[['cons','dummy','t1','t2','gdp','unemployment','real_interest']]).fit()\n",
        "stargazer = Stargazer([results1, results2,results3,results4, results5,results6])\n",
        "stargazer.covariate_order(['cons','dummy','t1','t2','gdp','unemployment','real_interest'])\n",
        "HTML(stargazer.render_html())"
      ],
      "metadata": {
        "id": "IDDf40nBkH4b"
      },
      "execution_count": null,
      "outputs": []
    },
    {
      "cell_type": "code",
      "source": [
        "\n",
        "fig = plt.figure(figsize=(16,9))\n",
        "\n",
        "result_list = [results1, results2,results3,results4, results5,results6]\n",
        "theta = d_intervention\n",
        "\n",
        "for i in range(len(result_list)):\n",
        "  plt.subplot(3,2,i+1)\n",
        "  #iv_l1 = np.exp(result_list[i].fittedvalues.values - 1.96*((result_list[i].fittedvalues.values/len(result_list[i].fittedvalues.values))**(1/2)))\n",
        "  #iv_u1 = np.exp(result_list[i].fittedvalues.values + 1.96*((result_list[i].fittedvalues.values/len(result_list[i].fittedvalues.values))**(1/2)))\n",
        "  plt.plot( ddf['t1'], ddf['offences'], '.',lw=.000001)\n",
        "  plt.plot (ddf['t1'],np.exp(result_list[i].fittedvalues), 'k-', lw=0.5)\n",
        "  #plt.plot(ddf['t1'], iv_u1, color='red', lw=0.2)\n",
        "  #plt.plot( ddf['t1'],iv_l1, color='red', lw=0.2)\n",
        "  plt.axvline(theta, color='black', lw=1, alpha=0.5)\n",
        "  plt.ylim((0, 2.5))\n",
        "  #plt.fill_between( ddf['t1'],iv_u1,iv_l1, color='red', alpha=0.06)\n",
        "  #plt.legend(('data','OLS','95% Significance'),loc=2)\n",
        "\n",
        "plt.show()"
      ],
      "metadata": {
        "id": "ioJweCSXkuVp"
      },
      "execution_count": null,
      "outputs": []
    },
    {
      "cell_type": "code",
      "source": [
        "np.exp(result_list[i].fittedvalues.values + 1.96*np.sqrt((result_list[i].fittedvalues.values/len(result_list[i].fittedvalues.values))))"
      ],
      "metadata": {
        "id": "iy6N9jRIW-o7"
      },
      "execution_count": null,
      "outputs": []
    },
    {
      "cell_type": "code",
      "source": [
        "#  Corruption\n",
        "results1 = sm.NegativeBinomial(ddf['offences'], ddf[['cons','dummy']]).fit()\n",
        "results2 = sm.NegativeBinomial(ddf['offences'], ddf[['cons','dummy','t2']]).fit()\n",
        "results3 = sm.NegativeBinomial(ddf['offences'], ddf[['cons','dummy','t1','t2']]).fit()\n",
        "results1 = sm.NegativeBinomial(ddf['offences'], ddf[['cons','dummy','gdp','unemployment','real_interest']]).fit()\n",
        "results2 = sm.NegativeBinomial(ddf['offences'], ddf[['cons','dummy','t2','gdp','unemployment','real_interest']]).fit()\n",
        "results3 = sm.NegativeBinomial(ddf['offences'], ddf[['cons','dummy','t1','t2','gdp','unemployment','real_interest']]).fit()\n",
        "\n",
        "stargazer = Stargazer([results1, results2,results3,results4])\n",
        "stargazer.covariate_order(['cons','dummy','t2','gdp','unemployment','real_interest'])\n",
        "HTML(stargazer.render_html())"
      ],
      "metadata": {
        "id": "EeEQx7RWlBzl"
      },
      "execution_count": null,
      "outputs": []
    },
    {
      "cell_type": "code",
      "source": [
        "\n",
        "fig = plt.figure(figsize=(16,9))\n",
        "\n",
        "result_list = [results1,results2,results3,results4]\n",
        "theta = d_intervention\n",
        "\n",
        "for i in range(len(result_list)):\n",
        "  plt.subplot(3,2,i+1)\n",
        "  plt.plot( ddf['t1'], ddf['offences'], '.',lw=1)\n",
        "  ax.set_ylim([0,2])\n",
        "  plt.plot(ddf['t1'],np.exp(result_list[i].fittedvalues), 'k', lw=5)\n",
        "  plt.axvline(theta, color='red', lw=1, alpha=0.5)\n",
        " # plt.legend(('data','OLS'),loc=2)\n",
        "\n",
        "plt.show()"
      ],
      "metadata": {
        "id": "BzZjYpjqlfe5"
      },
      "execution_count": null,
      "outputs": []
    },
    {
      "cell_type": "code",
      "source": [],
      "metadata": {
        "id": "1M5LX5QmKO2l"
      },
      "execution_count": null,
      "outputs": []
    },
    {
      "cell_type": "markdown",
      "source": [
        "## Daily Lowess"
      ],
      "metadata": {
        "id": "CegfXdFhDuvs"
      }
    },
    {
      "cell_type": "code",
      "source": [
        "smoothed = sm.nonparametric.lowess(exog=ddf['t1'], endog= ddf['offences'], frac=0.2)"
      ],
      "metadata": {
        "id": "6FAoqcQRlihC"
      },
      "execution_count": null,
      "outputs": []
    },
    {
      "cell_type": "code",
      "source": [
        "# Compute the 95% confidence interval\n",
        "eval_x = np.linspace(0, len(ddf), 31)\n",
        "smoothed, bottom, top = lowess_with_confidence_bounds(\n",
        "    ddf['t1'], ddf['offences'], eval_x, lowess_kw={\"frac\": 0.3})"
      ],
      "metadata": {
        "id": "hE7Tav3yltUm"
      },
      "execution_count": null,
      "outputs": []
    },
    {
      "cell_type": "code",
      "source": [
        "# Plot the confidence interval and fit\n",
        "fig, ax = pylab.subplots()\n",
        "ax.scatter(ddf['t1'], ddf['offences'],alpha=0.01)\n",
        "ax.plot(eval_x, smoothed, c=\"k\")\n",
        "ax.set_ylim([0.5,1.5])\n",
        "ax.fill_between(eval_x, bottom, top, alpha=0.06, color=\"r\")\n",
        "plt.xticks(np.arange(0, len(ddf) +1 , step=len(ddf)/9), np.arange(2010,2020,1))  # Set label locations.\n",
        "pylab.autoscale(enable=True, axis=\"x\", tight=True)\n",
        "#ax.axvline(len(ddf)*0.3888, color='red', lw=1, alpha=1.5)\n",
        "plt.legend(('Lowess Predicted Mean','Policy Intervention','Data Points','95% Sigificance Interval'),loc=2)\n",
        "#plt.savefig('daily_lowess.pdf')"
      ],
      "metadata": {
        "id": "JCAbaIHgl8N9"
      },
      "execution_count": null,
      "outputs": []
    },
    {
      "cell_type": "code",
      "source": [],
      "metadata": {
        "id": "NWh7ruLdmGaY"
      },
      "execution_count": null,
      "outputs": []
    },
    {
      "cell_type": "markdown",
      "source": [
        "## Trying a higher dimensional LOESS\n"
      ],
      "metadata": {
        "id": "IB1z9cO3W-Jv"
      }
    },
    {
      "cell_type": "code",
      "source": [
        "!pip install loess"
      ],
      "metadata": {
        "id": "-dM1rbuZXBqb"
      },
      "execution_count": null,
      "outputs": []
    },
    {
      "cell_type": "code",
      "source": [
        "!pip install --upgrade loess"
      ],
      "metadata": {
        "id": "XQ92vUYMXKZa"
      },
      "execution_count": null,
      "outputs": []
    },
    {
      "cell_type": "code",
      "source": [
        "# from loess.loess_2d import loess_2d"
      ],
      "metadata": {
        "id": "evthIrIIXdcV"
      },
      "execution_count": null,
      "outputs": []
    },
    {
      "cell_type": "code",
      "source": [
        "# zout, wout = loess_2d(mdf['t1'], mdf['unemployment'], mdf['offences'], xnew=None, ynew=None, degree=1, frac=0.5, npoints=None, rescale=True, sigz=None)"
      ],
      "metadata": {
        "id": "0DxUdRO0XN1z"
      },
      "execution_count": null,
      "outputs": []
    },
    {
      "cell_type": "code",
      "source": [
        "# zout"
      ],
      "metadata": {
        "id": "AXgbw9zNXvvQ"
      },
      "execution_count": null,
      "outputs": []
    },
    {
      "cell_type": "code",
      "source": [],
      "metadata": {
        "id": "cmLv1W68D_g-"
      },
      "execution_count": null,
      "outputs": []
    },
    {
      "cell_type": "code",
      "source": [
        "# wout"
      ],
      "metadata": {
        "id": "hSm7MmlyX2jW"
      },
      "execution_count": null,
      "outputs": []
    },
    {
      "cell_type": "code",
      "source": [
        "# # Plot the confidence interval and fit\n",
        "# fig, ax = pylab.subplots()\n",
        "# ax.scatter(mdf['t1'], mdf['offences'])\n",
        "# ax.plot(mdf['t1'], zout, c=\"k\")\n",
        "# ax.axvline(len(mdf)*0.38, color='red', lw=1, alpha=1.5)\n",
        "# plt.xticks(np.arange(0, len(mdf) +1 , step=len(mdf)/9), np.arange(2010,2020,1))  # Set label locations.\n",
        "# plt.legend(('Lowess Predicted Mean','Policy Intervention','Data Points','95% Sigificance Interval'),loc=2)\n",
        "# pylab.autoscale(enable=True, axis=\"x\", tight=True)"
      ],
      "metadata": {
        "id": "Wj8_wNToZCPN"
      },
      "execution_count": null,
      "outputs": []
    },
    {
      "cell_type": "code",
      "source": [
        "#Budgets Without Social Securuty Expenses\n",
        "#Budget data from MPU 34000\n",
        "mpu = [3145908775 ,3368718102, 3451162684,  3653232583, 4380220919, 5317241943, 4960053426, 5875777130, 5909003368, 6179905334,  6115794933]\n",
        "\n",
        "#Budjet from MPF 34101\n",
        "\n",
        "mpf = [2016295199 , 2096197287, 2116210654, 2274057081, 2726137936, 3403084147, 2949960222, 3460598218, 3428593780, 3632701538, 3553116339]\n",
        "\n",
        "#Budget from number '30108' Polia Federal until 2018 then '82102'\n",
        "pf = [2818901513 , 2893626928, 2921476071, 3415940083, 3521673884, 3865547950, 4018090731, 4486847532, 5224549182, 5385975529, 3337023173 ]"
      ],
      "metadata": {
        "id": "bk5L3ggBZZ9C"
      },
      "execution_count": null,
      "outputs": []
    },
    {
      "cell_type": "code",
      "source": [
        "#2010 link https://www.gov.br/planejamento/pt-br/assuntos/orcamento/orcamentos-anuais\n",
        "#2013 Was taken from the Project and not from the law itself, because it was not available"
      ],
      "metadata": {
        "id": "kLahQnNIL1YY"
      },
      "execution_count": null,
      "outputs": []
    },
    {
      "cell_type": "code",
      "source": [
        "tgdp"
      ],
      "metadata": {
        "id": "F5Y0gAneW7Wu"
      },
      "execution_count": null,
      "outputs": []
    },
    {
      "cell_type": "code",
      "source": [],
      "metadata": {
        "id": "WSDDA1QzW9Ek"
      },
      "execution_count": null,
      "outputs": []
    }
  ],
  "metadata": {
    "kernelspec": {
      "display_name": "Python 3",
      "language": "python",
      "name": "python3"
    },
    "language_info": {
      "codemirror_mode": {
        "name": "ipython",
        "version": 3
      },
      "file_extension": ".py",
      "mimetype": "text/x-python",
      "name": "python",
      "nbconvert_exporter": "python",
      "pygments_lexer": "ipython3",
      "version": "3.7.3"
    },
    "colab": {
      "name": "Data_Analysis.ipynb",
      "provenance": [],
      "include_colab_link": true
    }
  },
  "nbformat": 4,
  "nbformat_minor": 0
}